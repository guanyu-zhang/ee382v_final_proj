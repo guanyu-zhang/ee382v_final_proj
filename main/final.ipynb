{
 "cells": [
  {
   "cell_type": "code",
   "execution_count": 272,
   "metadata": {},
   "outputs": [],
   "source": [
    "import numpy as np\n",
    "import pandas as pd\n",
    "import os, shutil, re\n",
    "import matplotlib.pyplot as plt\n",
    "import seaborn as sns\n",
    "from collections import Counter\n",
    "from sklearn.ensemble import RandomForestClassifier\n",
    "from sklearn.ensemble import AdaBoostClassifier\n",
    "from sklearn.metrics import f1_score, balanced_accuracy_score, precision_score, recall_score, classification_report, accuracy_score \n",
    "from sklearn.multiclass import OneVsRestClassifier\n",
    "from sklearn.multiclass import OneVsOneClassifier\n",
    "from sklearn.model_selection import LeavePGroupsOut\n",
    "from scipy.sparse import coo_matrix\n",
    "from sklearn.svm import SVC\n",
    "from sklearn.utils import resample\n",
    "import joblib\n",
    "from numpy.random import seed\n",
    "\n",
    "import tensorflow as tf\n",
    "import tensorflow.keras as K\n",
    "from tensorflow.random import set_seed\n",
    "import tensorflow.keras.layers as L\n",
    "from tensorflow.keras.models import Sequential\n",
    "from tensorflow.keras.callbacks import EarlyStopping\n",
    "from tensorflow.keras.optimizers import SGD\n",
    "from tensorflow.keras.losses import binary_crossentropy, categorical_crossentropy\n",
    "from keras.utils import np_utils\n",
    "import check_dirs"
   ]
  },
  {
   "cell_type": "code",
   "execution_count": 2,
   "metadata": {},
   "outputs": [],
   "source": [
    "def bivar_transform(value, standard):\n",
    "    \"\"\"\n",
    "    parms:\n",
    "    value: input label\n",
    "    standard: the label that is preserved, all other labels are set to be 'other'\n",
    "    standrd is in {'1', '2', 'b', 'c', 'm', 'p', 't', 'x'}\n",
    "    \"\"\"\n",
    "    if value != standard:\n",
    "        return 'other'\n",
    "    else:\n",
    "        return standard\n",
    "    \n",
    "def bivar(data, standard):\n",
    "    data_cp = data.copy()\n",
    "    for i in range(data.shape[0]):\n",
    "        temp = bivar_transform(data.iloc[:,-1][i], standard)\n",
    "        data_cp.iloc[:,-1][i] = temp\n",
    "    return data_cp"
   ]
  },
  {
   "cell_type": "code",
   "execution_count": 19,
   "metadata": {},
   "outputs": [],
   "source": [
    "main_path = os.getcwd()\n",
    "dir_list = os.listdir(os.path.join(main_path,'p1'))\n",
    "def lopo(p, standard: str = None):\n",
    "    \"\"\"\n",
    "    LOPO\n",
    "    parms:\n",
    "    p: leave one participant out p in [1,2,3,4,5,6,7]\n",
    "    return: two dictionaries (train, test)\n",
    "    \"\"\"\n",
    "    train_data = {}\n",
    "    test_data = {}\n",
    "    main_list = ['p'+str(i) for i in range(1,8)]\n",
    "    main_list.remove('p'+str(p))\n",
    "    for i in main_list:\n",
    "        for j in dir_list:\n",
    "            d = pd.read_csv(os.path.join(main_path,i,j),low_memory=False)\n",
    "            if standard is not None:\n",
    "                d = bivar(d, standard)\n",
    "            d = np.array(d)\n",
    "            if train_data.get(j) is None:\n",
    "                train_data[j] = d\n",
    "            else:\n",
    "                train_data[j] = np.r_[train_data[j],d]\n",
    "    \n",
    "    for i in dir_list:\n",
    "        d = pd.read_csv(os.path.join(main_path,'p'+str(p),i),low_memory=False)\n",
    "        if standard is not None:\n",
    "            d = bivar(d, standard)\n",
    "        d = np.array(d)\n",
    "        test_data[i] = d\n",
    "    return train_data, test_data"
   ]
  },
  {
   "cell_type": "code",
   "execution_count": 20,
   "metadata": {},
   "outputs": [],
   "source": [
    "train_data, test_data = lopo(7)"
   ]
  },
  {
   "cell_type": "code",
   "execution_count": 21,
   "metadata": {},
   "outputs": [],
   "source": [
    "def get_merged_data(train_data, test_data):\n",
    "    merged_train, merged_test = [], []\n",
    "    for i in train_data:\n",
    "        if len(merged_train) == 0:\n",
    "            merged_train = train_data[i]\n",
    "            merged_test = test_data[i]\n",
    "        else:\n",
    "            merged_train = np.r_[merged_train,train_data[i]]\n",
    "            merged_test = np.r_[merged_test,test_data[i]]\n",
    "    return merged_train, merged_test"
   ]
  },
  {
   "cell_type": "code",
   "execution_count": 22,
   "metadata": {},
   "outputs": [],
   "source": [
    "merged_train, merged_test = get_merged_data(train_data, test_data)"
   ]
  },
  {
   "cell_type": "code",
   "execution_count": 24,
   "metadata": {},
   "outputs": [
    {
     "data": {
      "text/plain": [
       "((35259, 1001), (6672, 1001))"
      ]
     },
     "execution_count": 24,
     "metadata": {},
     "output_type": "execute_result"
    }
   ],
   "source": [
    "(merged_train.shape,merged_test.shape)"
   ]
  },
  {
   "cell_type": "code",
   "execution_count": 10,
   "metadata": {},
   "outputs": [
    {
     "name": "stdout",
     "output_type": "stream",
     "text": [
      "              precision    recall  f1-score   support\n",
      "\n",
      "           1       0.00      0.00      0.00       0.0\n",
      "           2       0.00      0.00      0.00       0.0\n",
      "           b       0.00      0.00      0.00       0.0\n",
      "           c       0.00      0.00      0.00       0.0\n",
      "       other       0.00      0.00      0.00    6672.0\n",
      "           p       0.00      0.00      0.00       0.0\n",
      "           t       0.00      0.00      0.00       0.0\n",
      "\n",
      "    accuracy                           0.00    6672.0\n",
      "   macro avg       0.00      0.00      0.00    6672.0\n",
      "weighted avg       0.00      0.00      0.00    6672.0\n",
      "\n"
     ]
    },
    {
     "name": "stderr",
     "output_type": "stream",
     "text": [
      "/usr/local/lib/python3.8/site-packages/sklearn/metrics/_classification.py:1221: UndefinedMetricWarning: Precision and F-score are ill-defined and being set to 0.0 in labels with no predicted samples. Use `zero_division` parameter to control this behavior.\n",
      "  _warn_prf(average, modifier, msg_start, len(result))\n",
      "/usr/local/lib/python3.8/site-packages/sklearn/metrics/_classification.py:1221: UndefinedMetricWarning: Recall and F-score are ill-defined and being set to 0.0 in labels with no true samples. Use `zero_division` parameter to control this behavior.\n",
      "  _warn_prf(average, modifier, msg_start, len(result))\n"
     ]
    }
   ],
   "source": [
    "clf = OneVsRestClassifier(RandomForestClassifier(max_depth=10, random_state=0)).fit(merged_train[:,:-1], merged_train[:,-1])"
   ]
  },
  {
   "cell_type": "code",
   "execution_count": 25,
   "metadata": {},
   "outputs": [
    {
     "name": "stdout",
     "output_type": "stream",
     "text": [
      "              precision    recall  f1-score   support\n",
      "\n",
      "           1       0.84      0.82      0.83      1615\n",
      "           2       0.32      0.19      0.24       370\n",
      "           b       0.67      0.89      0.77      2095\n",
      "           c       0.00      0.00      0.00         0\n",
      "           m       0.00      0.00      0.00        91\n",
      "           p       0.09      0.01      0.01       132\n",
      "           t       0.81      0.71      0.75      2350\n",
      "           x       0.00      0.00      0.00        19\n",
      "\n",
      "    accuracy                           0.74      6672\n",
      "   macro avg       0.34      0.33      0.33      6672\n",
      "weighted avg       0.72      0.74      0.72      6672\n",
      "\n"
     ]
    },
    {
     "name": "stderr",
     "output_type": "stream",
     "text": [
      "/usr/local/lib/python3.8/site-packages/sklearn/metrics/_classification.py:1221: UndefinedMetricWarning: Precision and F-score are ill-defined and being set to 0.0 in labels with no predicted samples. Use `zero_division` parameter to control this behavior.\n",
      "  _warn_prf(average, modifier, msg_start, len(result))\n",
      "/usr/local/lib/python3.8/site-packages/sklearn/metrics/_classification.py:1221: UndefinedMetricWarning: Recall and F-score are ill-defined and being set to 0.0 in labels with no true samples. Use `zero_division` parameter to control this behavior.\n",
      "  _warn_prf(average, modifier, msg_start, len(result))\n"
     ]
    }
   ],
   "source": [
    "merged_test_pred = clf.predict(merged_test[:,:-1])\n",
    "print(classification_report(merged_test[:,-1],merged_test_pred))"
   ]
  },
  {
   "cell_type": "code",
   "execution_count": 57,
   "metadata": {},
   "outputs": [],
   "source": [
    "clf = OneVsOneClassifier(RandomForestClassifier(max_depth=12, random_state=0)).fit(merged_train[:,:-1], merged_train[:,-1])"
   ]
  },
  {
   "cell_type": "code",
   "execution_count": 58,
   "metadata": {},
   "outputs": [
    {
     "name": "stdout",
     "output_type": "stream",
     "text": [
      "              precision    recall  f1-score   support\n",
      "\n",
      "           1       0.86      0.81      0.84      1615\n",
      "           2       0.41      0.35      0.38       370\n",
      "           b       0.68      0.89      0.77      2095\n",
      "           c       0.00      0.00      0.00         0\n",
      "           m       0.00      0.00      0.00        91\n",
      "           p       0.29      0.02      0.03       132\n",
      "           t       0.82      0.71      0.76      2350\n",
      "           x       0.00      0.00      0.00        19\n",
      "\n",
      "    accuracy                           0.75      6672\n",
      "   macro avg       0.38      0.35      0.35      6672\n",
      "weighted avg       0.74      0.75      0.73      6672\n",
      "\n"
     ]
    },
    {
     "name": "stderr",
     "output_type": "stream",
     "text": [
      "/usr/local/lib/python3.8/site-packages/sklearn/metrics/_classification.py:1221: UndefinedMetricWarning: Precision and F-score are ill-defined and being set to 0.0 in labels with no predicted samples. Use `zero_division` parameter to control this behavior.\n",
      "  _warn_prf(average, modifier, msg_start, len(result))\n",
      "/usr/local/lib/python3.8/site-packages/sklearn/metrics/_classification.py:1221: UndefinedMetricWarning: Recall and F-score are ill-defined and being set to 0.0 in labels with no true samples. Use `zero_division` parameter to control this behavior.\n",
      "  _warn_prf(average, modifier, msg_start, len(result))\n"
     ]
    }
   ],
   "source": [
    "merged_test_pred = clf.predict(merged_test[:,:-1])\n",
    "print(classification_report(merged_test[:,-1],merged_test_pred))"
   ]
  },
  {
   "cell_type": "code",
   "execution_count": 119,
   "metadata": {},
   "outputs": [],
   "source": [
    "sound_dir = './'\n",
    "sub_list = ['P1', 'P2', 'P3', 'P4', 'P5', 'P6', 'P7']\n",
    "feat_size=1000\n",
    "sound_list = []\n",
    "# obtain the path to all csv files\n",
    "for sub in sub_list:\n",
    "    sound_dir = './%s/' % sub\n",
    "    sound_list_sub = [os.path.join(sound_dir, item) \\\n",
    "                      for item in os.listdir(sound_dir) if item.endswith('.csv')]\n",
    "    sound_list.extend(sound_list_sub)\n",
    "    \n",
    "sound_data, groups = [], []   # groups is the subject index for each instance\n",
    "for item in sound_list:\n",
    "    sub_idx = int(item.split('/')[-2][1:])   # item: .../P1/embedding_1s/outdoor_refine.csv, extract x from Px\n",
    "    audio_seg = pd.read_csv(item, delimiter=',', header=None, dtype=str).values\n",
    "    groups.extend([sub_idx] * len(audio_seg))\n",
    "    sound_data.append(audio_seg)\n",
    "sound_data = np.concatenate(sound_data, axis = 0)\n",
    "features, labels = sound_data[:, :feat_size].astype(float), sound_data[:, -1]\n",
    "groups = np.asarray(groups)"
   ]
  },
  {
   "cell_type": "code",
   "execution_count": 123,
   "metadata": {},
   "outputs": [],
   "source": [
    "\"\"\"\n",
    "only keep 1,2,x\n",
    "\"\"\"\n",
    "idx_voice = np.where(labels == '1')\n",
    "idx_2voice = np.where(labels == '2')\n",
    "idx_undef = np.where(labels == 'x')\n",
    "labels_voice = labels[idx_voice]\n",
    "labels_2voice = labels[idx_2voice]\n",
    "labels_undef = labels[idx_undef]\n",
    "labels = np.concatenate((labels_voice, labels_2voice, labels_undef))\n",
    "features_voice = features[idx_voice]\n",
    "features_2voice = features[idx_2voice]\n",
    "features_undef = features[idx_undef]\n",
    "features = np.concatenate((features_voice, features_2voice, features_undef))\n",
    "groups_voice = groups[idx_voice]\n",
    "groups_2voice = groups[idx_2voice]\n",
    "groups_undef = groups[idx_undef]\n",
    "groups = np.concatenate((groups_voice, groups_2voice, groups_undef))\n",
    "\n",
    "idx_voice = np.where(labels == '1')   \n",
    "labels[idx_voice] = 0\n",
    "idx_2voice = np.where(labels == '2')   \n",
    "labels[idx_2voice] = 1\n",
    "idx_undef = np.where(labels == 'x')   \n",
    "labels[idx_undef] = 2\n",
    "\n",
    "labels = labels.astype(int) "
   ]
  },
  {
   "cell_type": "code",
   "execution_count": 136,
   "metadata": {},
   "outputs": [],
   "source": [
    "t= 10\n",
    "features_new = np.empty((0,1000))\n",
    "groups_new = np.empty((0,1))\n",
    "labels_new = np.empty((0,1))\n",
    "for i in range(0, len(labels)-t, t):\n",
    "    # only mean the instances within the same groups(subjects) and ignore ones of the transition\n",
    "    if groups[i] == groups[i+t]:        \n",
    "        temp_feat = features[i:i+t]\n",
    "        # mean for every t seconds\n",
    "        mean_feat = np.mean(temp_feat, axis=0)\n",
    "        #mean_feat = temp_feat\n",
    "        mean_feat = np.reshape(mean_feat, (1,1000))\n",
    "    else:\n",
    "        pass\n",
    "    features_new = np.vstack((features_new, mean_feat))\n",
    "    labels_new = np.vstack((labels_new, labels[i]))\n",
    "    groups_new = np.vstack((groups_new, groups[i]))\n",
    "labels_new = labels_new.astype(int)\n",
    "groups_new = groups_new.reshape((groups_new.shape[0], ))\n",
    "groups_new = groups_new.astype(int)"
   ]
  },
  {
   "cell_type": "code",
   "execution_count": 137,
   "metadata": {},
   "outputs": [],
   "source": [
    "# def new_unit_data(features, labels, groups, t):\n",
    "#     t= 10\n",
    "#     features_new = np.empty((0,1000))\n",
    "#     groups_new = np.empty((0,1))\n",
    "#     labels_new = np.empty((0,1))\n",
    "#     for i in range(0, len(labels)-t, t):\n",
    "#         # only mean the instances within the same groups(subjects) and ignore ones of the transition\n",
    "#         if features[i] == features[i+t]:        \n",
    "#             temp_feat = features[i:i+t]\n",
    "#             # mean for every t seconds\n",
    "#             mean_feat = np.mean(temp_feat, axis=0)\n",
    "#             #mean_feat = temp_feat\n",
    "#             mean_feat = np.reshape(mean_feat, (1,1000))\n",
    "#         else:\n",
    "#             pass\n",
    "#         features_new = np.vstack((features_new, mean_feat))\n",
    "#         labels_new = np.vstack((labels_new, labels[i]))\n",
    "#         groups_new = np.vstack((groups_new, groups[i]))\n",
    "#     labels_new = labels_new.astype(int)\n",
    "#     groups_new = groups_new.reshape((groups_new.shape[0], ))\n",
    "#     groups_new = groups_new.astype(int)\n",
    "#     return features_new, labels_new, groups_new"
   ]
  },
  {
   "cell_type": "code",
   "execution_count": 217,
   "metadata": {},
   "outputs": [],
   "source": [
    "class model_nn():\n",
    "    def __init__(self, input_shape):\n",
    "        self.input_shape = input_shape\n",
    "    def model(self):    \n",
    "        model = Sequential()\n",
    "        model.add(L.Conv2D(64, strides=2, kernel_size=4, activation='relu', padding='same', input_shape=self.input_shape))\n",
    "        model.add(L.Conv2D(128, strides=2, kernel_size=4, activation='relu', padding='same'))\n",
    "        model.add(L.Conv2D(256, strides=2, kernel_size=4, activation='relu', padding='same'))\n",
    "        model.add(L.Conv2D(512, strides=2, kernel_size=4, activation='relu', padding='same'))\n",
    "        model.add(L.Flatten())\n",
    "        model.add(L.Dense(1024, activation='relu'))\n",
    "        model.add(L.Dropout(0.2))\n",
    "        model.add(L.Dense(128, activation='relu'))\n",
    "        model.add(L.Dropout(0.2))\n",
    "        model.add(L.Dense(3, activation='sigmoid'))\n",
    "    \n",
    "        # Compile the model\n",
    "        opt = SGD(lr=0.01, decay=1e-6, momentum=0.9, nesterov=True)\n",
    "        model.compile(loss=categorical_crossentropy,\n",
    "                      optimizer=opt,\n",
    "                      metrics=['categorical_accuracy'])\n",
    "        return model"
   ]
  },
  {
   "cell_type": "code",
   "execution_count": 148,
   "metadata": {},
   "outputs": [],
   "source": [
    "def last_4chars(x):    \n",
    "    return(int(x.split('/')[-1].split('-')[0][4:]))"
   ]
  },
  {
   "cell_type": "code",
   "execution_count": 158,
   "metadata": {},
   "outputs": [
    {
     "data": {
      "text/plain": [
       "((1476, 1000), (1476, 1), (1476,))"
      ]
     },
     "execution_count": 158,
     "metadata": {},
     "output_type": "execute_result"
    }
   ],
   "source": [
    "features_new.shape, labels_new.shape, groups_new.shape"
   ]
  },
  {
   "cell_type": "code",
   "execution_count": 276,
   "metadata": {},
   "outputs": [
    {
     "data": {
      "text/plain": [
       "Counter({0: 887, 1: 536, 2: 53})"
      ]
     },
     "execution_count": 276,
     "metadata": {},
     "output_type": "execute_result"
    }
   ],
   "source": [
    "Counter(labels_new.reshape((1,-1))[0])"
   ]
  },
  {
   "cell_type": "code",
   "execution_count": 312,
   "metadata": {},
   "outputs": [],
   "source": [
    "\"\"\"\n",
    "resample to balance data\n",
    "\"\"\"\n",
    "concat_data = np.c_[features_new, labels_new, groups_new]\n",
    "concat_1 = concat_data[concat_data[:,-2]==0]\n",
    "concat_1 = resample(concat_1, n_samples=500, random_state=0)\n",
    "concat_2 = concat_data[concat_data[:,-2]==1]\n",
    "concat_2 = resample(concat_2, n_samples=500, random_state=0)\n",
    "concat_x = concat_data[concat_data[:,-2]==2]\n",
    "concat_x = resample(concat_x, n_samples=500, random_state=0)\n",
    "concat_data = np.concatenate((concat_1,concat_2,concat_x))\n",
    "features_new = concat_data[:,:-2]\n",
    "labels_new = concat_data[:,-2]\n",
    "groups_new = concat_data[:,-1]"
   ]
  },
  {
   "cell_type": "code",
   "execution_count": 198,
   "metadata": {},
   "outputs": [],
   "source": [
    "def format_input(data):\n",
    "    new_data = []\n",
    "    for i in data:\n",
    "        temp_data = i.reshape((25,40,1))\n",
    "        new_data.append(temp_data)\n",
    "    return np.asarray(new_data,dtype=np.float) "
   ]
  },
  {
   "cell_type": "code",
   "execution_count": 315,
   "metadata": {
    "scrolled": false
   },
   "outputs": [
    {
     "name": "stdout",
     "output_type": "stream",
     "text": [
      "Epoch 1/5\n",
      "73/73 - 6s - loss: 1.0850 - categorical_accuracy: 0.4220 - val_loss: 1.0698 - val_categorical_accuracy: 0.4671\n",
      "Epoch 2/5\n",
      "73/73 - 6s - loss: 0.8898 - categorical_accuracy: 0.5806 - val_loss: 0.7807 - val_categorical_accuracy: 0.3413\n",
      "Epoch 3/5\n",
      "73/73 - 6s - loss: 0.6883 - categorical_accuracy: 0.6492 - val_loss: 0.8767 - val_categorical_accuracy: 0.4731\n",
      "Epoch 4/5\n",
      "73/73 - 6s - loss: 0.5983 - categorical_accuracy: 0.7033 - val_loss: 1.1653 - val_categorical_accuracy: 0.4042\n",
      "Epoch 5/5\n",
      "73/73 - 5s - loss: 0.5045 - categorical_accuracy: 0.7744 - val_loss: 1.2373 - val_categorical_accuracy: 0.5090\n",
      "Epoch 1/5\n",
      "76/76 - 6s - loss: 1.0830 - categorical_accuracy: 0.4312 - val_loss: 1.1260 - val_categorical_accuracy: 0.3902\n",
      "Epoch 2/5\n",
      "76/76 - 5s - loss: 0.9198 - categorical_accuracy: 0.5829 - val_loss: 0.8190 - val_categorical_accuracy: 0.4007\n",
      "Epoch 3/5\n",
      "76/76 - 5s - loss: 0.7072 - categorical_accuracy: 0.6348 - val_loss: 0.8657 - val_categorical_accuracy: 0.4042\n",
      "Epoch 4/5\n",
      "76/76 - 5s - loss: 0.6274 - categorical_accuracy: 0.6727 - val_loss: 0.8178 - val_categorical_accuracy: 0.4042\n",
      "Epoch 5/5\n",
      "76/76 - 5s - loss: 0.5386 - categorical_accuracy: 0.7312 - val_loss: 0.7987 - val_categorical_accuracy: 0.4390\n",
      "Epoch 1/5\n",
      "79/79 - 6s - loss: 1.0874 - categorical_accuracy: 0.4200 - val_loss: 1.0721 - val_categorical_accuracy: 0.5210\n",
      "Epoch 2/5\n",
      "79/79 - 6s - loss: 0.9217 - categorical_accuracy: 0.5626 - val_loss: 0.7148 - val_categorical_accuracy: 0.5714\n",
      "Epoch 3/5\n",
      "79/79 - 5s - loss: 0.7289 - categorical_accuracy: 0.6078 - val_loss: 0.7282 - val_categorical_accuracy: 0.5420\n",
      "Epoch 4/5\n",
      "79/79 - 5s - loss: 0.6461 - categorical_accuracy: 0.6561 - val_loss: 0.6765 - val_categorical_accuracy: 0.6345\n",
      "Epoch 5/5\n",
      "79/79 - 5s - loss: 0.5732 - categorical_accuracy: 0.7171 - val_loss: 0.6694 - val_categorical_accuracy: 0.6218\n",
      "Epoch 1/5\n",
      "87/87 - 6s - loss: 1.0858 - categorical_accuracy: 0.4212 - val_loss: 1.0859 - val_categorical_accuracy: 0.4146\n",
      "Epoch 2/5\n",
      "87/87 - 6s - loss: 0.8904 - categorical_accuracy: 0.5701 - val_loss: 0.8604 - val_categorical_accuracy: 0.3089\n",
      "Epoch 3/5\n",
      "87/87 - 6s - loss: 0.6826 - categorical_accuracy: 0.6187 - val_loss: 0.8158 - val_categorical_accuracy: 0.3659\n",
      "Epoch 4/5\n",
      "87/87 - 6s - loss: 0.6217 - categorical_accuracy: 0.6696 - val_loss: 0.9113 - val_categorical_accuracy: 0.3333\n",
      "Epoch 5/5\n",
      "87/87 - 6s - loss: 0.5798 - categorical_accuracy: 0.6761 - val_loss: 0.7589 - val_categorical_accuracy: 0.3821\n",
      "Epoch 1/5\n",
      "79/79 - 6s - loss: 1.0860 - categorical_accuracy: 0.4571 - val_loss: 1.1059 - val_categorical_accuracy: 0.2875\n",
      "Epoch 2/5\n",
      "79/79 - 5s - loss: 0.8685 - categorical_accuracy: 0.5722 - val_loss: 1.1795 - val_categorical_accuracy: 0.3167\n",
      "Epoch 3/5\n",
      "79/79 - 7s - loss: 0.6536 - categorical_accuracy: 0.6524 - val_loss: 1.1665 - val_categorical_accuracy: 0.4250\n",
      "Epoch 4/5\n",
      "79/79 - 6s - loss: 0.5931 - categorical_accuracy: 0.6706 - val_loss: 1.8230 - val_categorical_accuracy: 0.3458\n",
      "Epoch 5/5\n",
      "79/79 - 6s - loss: 0.5059 - categorical_accuracy: 0.7421 - val_loss: 2.0810 - val_categorical_accuracy: 0.3583\n",
      "Epoch 1/5\n",
      "86/86 - 6s - loss: 1.0813 - categorical_accuracy: 0.4109 - val_loss: 0.9937 - val_categorical_accuracy: 0.7591\n",
      "Epoch 2/5\n",
      "86/86 - 6s - loss: 0.8504 - categorical_accuracy: 0.5591 - val_loss: 0.7909 - val_categorical_accuracy: 0.5839\n",
      "Epoch 3/5\n",
      "86/86 - 6s - loss: 0.6683 - categorical_accuracy: 0.6126 - val_loss: 1.2547 - val_categorical_accuracy: 0.4307\n",
      "Epoch 4/5\n",
      "86/86 - 6s - loss: 0.6116 - categorical_accuracy: 0.6581 - val_loss: 0.9256 - val_categorical_accuracy: 0.5547\n",
      "Epoch 5/5\n",
      "86/86 - 6s - loss: 0.5341 - categorical_accuracy: 0.7197 - val_loss: 0.8496 - val_categorical_accuracy: 0.7007\n",
      "Epoch 1/5\n",
      "85/85 - 8s - loss: 1.0893 - categorical_accuracy: 0.3635 - val_loss: 1.1299 - val_categorical_accuracy: 0.2766\n",
      "Epoch 2/5\n",
      "85/85 - 7s - loss: 0.9415 - categorical_accuracy: 0.5151 - val_loss: 0.7489 - val_categorical_accuracy: 0.7234\n",
      "Epoch 3/5\n",
      "85/85 - 6s - loss: 0.7119 - categorical_accuracy: 0.5990 - val_loss: 0.5921 - val_categorical_accuracy: 0.7518\n",
      "Epoch 4/5\n",
      "85/85 - 6s - loss: 0.6393 - categorical_accuracy: 0.6564 - val_loss: 0.6105 - val_categorical_accuracy: 0.6950\n",
      "Epoch 5/5\n",
      "85/85 - 8s - loss: 0.5353 - categorical_accuracy: 0.7388 - val_loss: 0.5672 - val_categorical_accuracy: 0.7589\n"
     ]
    }
   ],
   "source": [
    "seed(0)\n",
    "# keras seed\n",
    "set_seed(0)\n",
    "#features_new = np.expand_dims(features_new, axis=-1).astype(float)\n",
    "#%%\n",
    "          \n",
    "NN = True\n",
    "if NN:\n",
    "    predict = False\n",
    "    save_model_path = './models_resample/'\n",
    "    check_dirs.check_dir(save_model_path)\n",
    "    batch_size = 16\n",
    "    lppo = LeavePGroupsOut(n_groups=1)\n",
    "    #lppo = GroupKFold(n_splits=2)\n",
    "    #kfold = StratifiedKFold(n_splits=5, shuffle=False, random_state=None)\n",
    "    fold_no = 1\n",
    "    f1_per_fold, acc_per_fold, pre_per_fold, rec_per_fold = [], [], [], []\n",
    "    # training\n",
    "    if not predict:\n",
    "        #for train, test in kfold.split(features, labels):\n",
    "        for train, test in lppo.split(features_new, labels_new, groups_new):\n",
    "            feat_train, labels_train = features_new[train], labels_new[train]\n",
    "            feat_test, labels_test = features_new[test], labels_new[test]\n",
    "            feat_train = format_input(feat_train)\n",
    "            feat_test = format_input(feat_test)\n",
    "            labels_train = np_utils.to_categorical(labels_train)\n",
    "            labels_test = np_utils.to_categorical(labels_test)\n",
    "            model_fold = model_nn(input_shape=(25, 40, 1)).model()\n",
    "            # Fit data to model, only models with the best val acc (unbalanced) are saved\n",
    "            model_fold.fit(feat_train, labels_train,\n",
    "                           batch_size=batch_size,\n",
    "                           epochs=5,\n",
    "                           validation_data=(feat_test, labels_test),\n",
    "                           verbose=2,\n",
    "                           callbacks=[K.callbacks.ModelCheckpoint(save_model_path+\"fold%01d-epoch_{epoch:02d}-acc_{val_categorical_accuracy:.4f}.h5\" %fold_no, \n",
    "                                                                  monitor='val_categorical_accuracy', \n",
    "                                                                  verbose=0, \n",
    "                                                                  save_best_only=True, \n",
    "                                                                  save_weights_only=True, \n",
    "                                                                  mode='auto', \n",
    "                                                                  save_freq='epoch')])\n",
    "            del model_fold\n",
    "            fold_no = fold_no + 1\n",
    "    # validation                     \n",
    "    if predict:\n",
    "        models = sorted([os.path.join(save_model_path, item) \\\n",
    "                         for item in os.listdir(save_model_path) if item.endswith('.h5')], key=last_4chars)\n",
    "        #for train, test in kfold.split(features, labels):\n",
    "        for train, test in lppo.split(features_new, labels_new, groups=groups_new):\n",
    "#             feat_train, labels_train = features_new[train], labels_new[train]\n",
    "            feat_test, labels_test = features_new[test], labels_new[test]\n",
    "            feat_test = format_input(feat_test)\n",
    "            labels_test = np_utils.to_categorical(labels_test)\n",
    "            model_pred = model_nn(input_shape=(25, 40, 1)).model()\n",
    "            model_pred.load_weights(models[fold_no - 1])\n",
    "            # prediction\n",
    "            pred_prob = model_pred.predict(feat_test)\n",
    "            # set threshold for binary classification\n",
    "            idx_p = np.where(pred_prob > 0.5)\n",
    "            idx_n = np.where(pred_prob <= 0.5)\n",
    "            pred_prob[idx_p] = 1\n",
    "            pred_prob[idx_n] = 0\n",
    "\n",
    "            acc_per_fold.append(balanced_accuracy_score(labels_test, pred_prob) * 100)\n",
    "            f1_per_fold.append(f1_score(labels_test, pred_prob, average = 'macro') * 100)  \n",
    "            # initialize\n",
    "            del model_pred\n",
    "            fold_no = fold_no + 1\n",
    "        f1 = np.mean(f1_per_fold)\n",
    "        acc = np.mean(acc_per_fold)\n",
    "        print('acc: ', acc, '\\n f1: ', f1)"
   ]
  },
  {
   "cell_type": "code",
   "execution_count": 316,
   "metadata": {},
   "outputs": [
    {
     "name": "stdout",
     "output_type": "stream",
     "text": [
      "              precision    recall  f1-score   support\n",
      "\n",
      "           0       0.55      0.95      0.70        91\n",
      "           1       0.14      0.06      0.09       124\n",
      "           2       0.51      0.52      0.52       119\n",
      "\n",
      "   micro avg       0.47      0.47      0.47       334\n",
      "   macro avg       0.40      0.51      0.43       334\n",
      "weighted avg       0.38      0.47      0.41       334\n",
      " samples avg       0.47      0.47      0.47       334\n",
      "\n"
     ]
    },
    {
     "name": "stderr",
     "output_type": "stream",
     "text": [
      "/usr/local/lib/python3.8/site-packages/sklearn/metrics/_classification.py:1221: UndefinedMetricWarning: Precision and F-score are ill-defined and being set to 0.0 in labels with no predicted samples. Use `zero_division` parameter to control this behavior.\n",
      "  _warn_prf(average, modifier, msg_start, len(result))\n"
     ]
    },
    {
     "name": "stdout",
     "output_type": "stream",
     "text": [
      "              precision    recall  f1-score   support\n",
      "\n",
      "           0       0.70      0.98      0.82        51\n",
      "           1       0.34      0.94      0.50        79\n",
      "           2       0.00      0.00      0.00       157\n",
      "\n",
      "   micro avg       0.43      0.43      0.43       287\n",
      "   macro avg       0.35      0.64      0.44       287\n",
      "weighted avg       0.22      0.43      0.28       287\n",
      " samples avg       0.43      0.43      0.43       287\n",
      "\n",
      "              precision    recall  f1-score   support\n",
      "\n",
      "           0       1.00      0.98      0.99        62\n",
      "           1       0.87      0.63      0.73        95\n",
      "           2       0.67      0.89      0.76        81\n",
      "\n",
      "   micro avg       0.81      0.81      0.81       238\n",
      "   macro avg       0.85      0.83      0.83       238\n",
      "weighted avg       0.83      0.81      0.81       238\n",
      " samples avg       0.81      0.81      0.81       238\n",
      "\n",
      "              precision    recall  f1-score   support\n",
      "\n",
      "           0       0.69      0.96      0.80        49\n",
      "           1       0.89      0.70      0.78        70\n",
      "           2       0.00      0.00      0.00         4\n",
      "\n",
      "   micro avg       0.78      0.78      0.78       123\n",
      "   macro avg       0.53      0.55      0.53       123\n",
      "weighted avg       0.78      0.78      0.77       123\n",
      " samples avg       0.78      0.78      0.78       123\n",
      "\n",
      "              precision    recall  f1-score   support\n",
      "\n",
      "           0       0.42      0.94      0.58        54\n",
      "           1       0.54      0.84      0.66        76\n",
      "           2       0.00      0.00      0.00       110\n",
      "\n",
      "   micro avg       0.48      0.48      0.48       240\n",
      "   macro avg       0.32      0.60      0.41       240\n",
      "weighted avg       0.27      0.48      0.34       240\n",
      " samples avg       0.48      0.48      0.48       240\n",
      "\n",
      "              precision    recall  f1-score   support\n",
      "\n",
      "           0       0.96      0.80      0.87        88\n",
      "           1       0.78      0.62      0.69        29\n",
      "           2       0.49      1.00      0.66        20\n",
      "\n",
      "   micro avg       0.79      0.79      0.79       137\n",
      "   macro avg       0.74      0.81      0.74       137\n",
      "weighted avg       0.85      0.79      0.80       137\n",
      " samples avg       0.79      0.79      0.79       137\n",
      "\n",
      "              precision    recall  f1-score   support\n",
      "\n",
      "           0       1.00      0.78      0.88       105\n",
      "           1       0.46      1.00      0.63        27\n",
      "           2       0.00      0.00      0.00         9\n",
      "\n",
      "   micro avg       0.77      0.77      0.77       141\n",
      "   macro avg       0.49      0.59      0.50       141\n",
      "weighted avg       0.83      0.77      0.77       141\n",
      " samples avg       0.77      0.77      0.77       141\n",
      "\n",
      "acc:  0.6472958959940414 \n",
      " f1:  0.5970768336819037 \n",
      " balanced_acc:  0.6473737743676713\n"
     ]
    }
   ],
   "source": [
    "\"\"\"\n",
    "for evaluation\n",
    "!!!!!!!!\n",
    "!!!!!!!\n",
    "!!!!!\n",
    "!!!!\n",
    "!!\n",
    "!\n",
    "\n",
    "\"\"\"\n",
    "seed(0)\n",
    "# keras seed\n",
    "set_seed(0)\n",
    "#features_new = np.expand_dims(features_new, axis=-1).astype(float)\n",
    "#%%\n",
    "          \n",
    "NN = True\n",
    "if NN:\n",
    "    predict = True\n",
    "    save_model_path = './models_resample/'\n",
    "    batch_size = 16\n",
    "    lppo = LeavePGroupsOut(n_groups=1)\n",
    "    #lppo = GroupKFold(n_splits=2)\n",
    "    #kfold = StratifiedKFold(n_splits=5, shuffle=False, random_state=None)\n",
    "    fold_no = 1\n",
    "    f1_per_fold, acc_per_fold, pre_per_fold, rec_per_fold, balanced_acc_per_fold = [], [], [], [], []\n",
    "    # training\n",
    "    if not predict:\n",
    "        #for train, test in kfold.split(features, labels):\n",
    "        for train, test in lppo.split(features_new, labels_new, groups_new):\n",
    "            feat_train, labels_train = features_new[train], labels_new[train]\n",
    "            feat_test, labels_test = features_new[test], labels_new[test]\n",
    "            feat_train = format_input(feat_train)\n",
    "            feat_test = format_input(feat_test)\n",
    "            labels_train = np_utils.to_categorical(labels_train)\n",
    "            labels_test = np_utils.to_categorical(labels_test)\n",
    "            model_fold = model_nn(input_shape=(25, 40, 1)).model()\n",
    "            # Fit data to model, only models with the best val acc (unbalanced) are saved\n",
    "            model_fold.fit(feat_train, labels_train,\n",
    "                           batch_size=batch_size,\n",
    "                           epochs=5,\n",
    "                           validation_data=(feat_test, labels_test),\n",
    "                           verbose=2,\n",
    "                           callbacks=[K.callbacks.ModelCheckpoint(save_model_path+\"fold%01d-epoch_{epoch:02d}-acc_{val_categorical_accuracy:.4f}.h5\" %fold_no, \n",
    "                                                                  monitor='val_categorical_accuracy', \n",
    "                                                                  verbose=0, \n",
    "                                                                  save_best_only=True, \n",
    "                                                                  save_weights_only=True, \n",
    "                                                                  mode='auto', \n",
    "                                                                  save_freq='epoch')])\n",
    "            del model_fold\n",
    "            fold_no = fold_no + 1\n",
    "    # validation                     \n",
    "    if predict:\n",
    "        models = sorted([os.path.join(save_model_path, item) \\\n",
    "                         for item in os.listdir(save_model_path) if item.endswith('.h5')], key=last_4chars)\n",
    "        #for train, test in kfold.split(features, labels):\n",
    "        for train, test in lppo.split(features_new, labels_new, groups=groups_new):\n",
    "#             feat_train, labels_train = features_new[train], labels_new[train]\n",
    "            feat_test, labels_test = features_new[test], labels_new[test]\n",
    "            feat_test = format_input(feat_test)\n",
    "            labels_test = np_utils.to_categorical(labels_test)\n",
    "            model_pred = model_nn(input_shape=(25, 40, 1)).model()\n",
    "            model_pred.load_weights(models[fold_no - 1])\n",
    "            # prediction\n",
    "            pred_prob = model_pred.predict(feat_test)\n",
    "#             pred_prob = pred_prob.argmax(axis=1)\n",
    "            result = []\n",
    "            for i in pred_prob:\n",
    "                temp = i.argmax(axis=0)\n",
    "                if temp == 0:\n",
    "                    result.append([1,0,0])\n",
    "                elif temp == 1:\n",
    "                    result.append([0,1,0])\n",
    "                else:\n",
    "                    result.append([0,0,1])\n",
    "            result = np.asarray(result, dtype=np.int)\n",
    "#             print(np.argsort(pred_prob,axis=1))\n",
    "#             break\n",
    "#             acc_per_fold.append(balanced_accuracy_score(labels_test, pred_prob) * 100)\n",
    "#             f1_per_fold.append(f1_score(labels_test, pred_prob, average = 'macro') * 100) \n",
    "            f1_per_fold.append(f1_score(labels_test, result,average='weighted'))\n",
    "            acc_per_fold.append(accuracy_score(labels_test, result))\n",
    "            balanced_acc_per_fold.append(balanced_accuracy_score([np.argmax(one_hot)for one_hot in labels_test],[np.argmax(one_hot)for one_hot in result]))\n",
    "            print(classification_report(labels_test,result))\n",
    "            # initialize\n",
    "            del model_pred\n",
    "            fold_no = fold_no + 1\n",
    "        f1 = np.mean(f1_per_fold)\n",
    "        acc = np.mean(acc_per_fold)\n",
    "        balanced_acc = np.mean(balanced_acc_per_fold)\n",
    "        print('acc: ', acc, '\\n f1: ', f1, '\\n balanced_acc: ', balanced_acc)"
   ]
  },
  {
   "cell_type": "code",
   "execution_count": 31,
   "metadata": {
    "scrolled": false
   },
   "outputs": [
    {
     "data": {
      "image/png": "[encoded data removed]",
      "text/plain": [
       "<Figure size 720x720 with 1 Axes>"
      ]
     },
     "metadata": {
      "needs_background": "light"
     },
     "output_type": "display_data"
    }
   ],
   "source": [
    "fig, axs = plt.subplots(1,figsize=(10,10))\n",
    "plt.spy(merged_test[:,:-1])\n",
    "plt.tight_layout()\n",
    "plt.show()"
   ]
  },
  {
   "cell_type": "code",
   "execution_count": 35,
   "metadata": {},
   "outputs": [
    {
     "name": "stdout",
     "output_type": "stream",
     "text": [
      "Counter({'b': 11008, 't': 8641, '1': 7211, '2': 4988, 'p': 1141, 'm': 1111, 'c': 642, 'x': 517})\n",
      "Counter({'t': 2350, 'b': 2095, '1': 1615, '2': 370, 'p': 132, 'm': 91, 'x': 19})\n"
     ]
    }
   ],
   "source": [
    "print(Counter(merged_train[:,-1]))\n",
    "print(Counter(merged_test[:,-1]))"
   ]
  },
  {
   "cell_type": "code",
   "execution_count": 44,
   "metadata": {},
   "outputs": [],
   "source": [
    "def boostrap_merged_data(merged_train):\n",
    "    train_class = Counter(merged_train[:,-1])\n",
    "    resample_train = []\n",
    "    for i in train_class:\n",
    "        temp_data = merged_train[merged_train[:,-1]==i]\n",
    "        temp_data = resample(temp_data, n_samples=6000, random_state=0)\n",
    "        if len(resample_train) == 0:\n",
    "            resample_train = temp_data\n",
    "        else:\n",
    "            resample_train = np.r_[resample_train,temp_data]\n",
    "    return resample_train"
   ]
  },
  {
   "cell_type": "code",
   "execution_count": 45,
   "metadata": {},
   "outputs": [],
   "source": [
    "resample_train = boostrap_merged_data(merged_train)"
   ]
  },
  {
   "cell_type": "code",
   "execution_count": 47,
   "metadata": {},
   "outputs": [],
   "source": [
    "# resample_train_X = coo_matrix(resample_train[:,:-1])"
   ]
  },
  {
   "cell_type": "code",
   "execution_count": 49,
   "metadata": {},
   "outputs": [],
   "source": [
    "clf = OneVsRestClassifier(RandomForestClassifier(max_depth=10, random_state=0)).fit(resample_train[:,:-1], resample_train[:,-1])"
   ]
  },
  {
   "cell_type": "code",
   "execution_count": 50,
   "metadata": {
    "scrolled": true
   },
   "outputs": [
    {
     "name": "stderr",
     "output_type": "stream",
     "text": [
      "/usr/local/lib/python3.8/site-packages/sklearn/metrics/_classification.py:1221: UndefinedMetricWarning: Recall and F-score are ill-defined and being set to 0.0 in labels with no true samples. Use `zero_division` parameter to control this behavior.\n",
      "  _warn_prf(average, modifier, msg_start, len(result))\n"
     ]
    },
    {
     "name": "stdout",
     "output_type": "stream",
     "text": [
      "              precision    recall  f1-score   support\n",
      "\n",
      "           1       0.44      0.69      0.54      6000\n",
      "           2       0.36      0.18      0.24      6000\n",
      "           b       0.47      0.86      0.61      6000\n",
      "           c       0.00      0.00      0.00         0\n",
      "           m       0.40      0.16      0.23      6000\n",
      "           p       0.38      0.18      0.25      6000\n",
      "           t       0.37      0.73      0.49      6000\n",
      "           x       0.36      0.05      0.09      6000\n",
      "\n",
      "    accuracy                           0.41     42000\n",
      "   macro avg       0.35      0.35      0.30     42000\n",
      "weighted avg       0.40      0.41      0.35     42000\n",
      "\n"
     ]
    }
   ],
   "source": [
    "resample_test_pred = clf.predict(resample_test[:,:-1])\n",
    "print(classification_report(resample_test[:,-1],resample_test_pred))"
   ]
  },
  {
   "cell_type": "code",
   "execution_count": 4,
   "metadata": {},
   "outputs": [],
   "source": [
    "def lopo_count(data, standard):\n",
    "    \"\"\"\n",
    "    parms:\n",
    "    data: could be one of train_data and test_data\n",
    "    standard: same as bivar_transform\n",
    "    return: tuple contains the number of two labels (standard and 'other')\n",
    "    \"\"\"\n",
    "    standard_count, other_count = 0, 0\n",
    "    for i in data:\n",
    "        count = Counter(data[i][:,-1])\n",
    "        if len(count) == 2:\n",
    "            other_count += count['other']\n",
    "            standard_count += count[standard]\n",
    "        else:\n",
    "            other_count += count['other']\n",
    "    return standard_count, other_count"
   ]
  },
  {
   "cell_type": "code",
   "execution_count": 11,
   "metadata": {},
   "outputs": [
    {
     "name": "stderr",
     "output_type": "stream",
     "text": [
      "<ipython-input-2-be0bada80baa>:17: SettingWithCopyWarning: \n",
      "A value is trying to be set on a copy of a slice from a DataFrame\n",
      "\n",
      "See the caveats in the documentation: https://pandas.pydata.org/pandas-docs/stable/user_guide/indexing.html#returning-a-view-versus-a-copy\n",
      "  data_cp.iloc[:,-1][i] = temp\n"
     ]
    },
    {
     "name": "stdout",
     "output_type": "stream",
     "text": [
      "In train_data: 1050 'm' 34236 'other' \n",
      "In test_data: 152 'm' 6493 'other' \n"
     ]
    }
   ],
   "source": [
    "\"\"\"\n",
    "这里用 'm' 和 p7 为例\n",
    "\"\"\"\n",
    "train_data, test_data = lopo(p=6, standard='m')\n",
    "m_count_train, other_count_train = lopo_count(train_data, standard='m')\n",
    "m_count_test, other_count_test = lopo_count(test_data, standard='m')\n",
    "print('In train_data: ' + str(m_count_train) + \" 'm' \" + str(other_count_train) + \" 'other' \")\n",
    "print('In test_data: ' + str(m_count_test) + \" 'm' \" + str(other_count_test) + \" 'other' \")"
   ]
  },
  {
   "cell_type": "code",
   "execution_count": 6,
   "metadata": {},
   "outputs": [],
   "source": [
    "\"\"\"\n",
    "对每个场景单独训练模型一共6个,这里我用了rf和adaboost\n",
    "\"\"\"\n",
    "def model_dict(data, model: str):\n",
    "    \"\"\"\n",
    "    parms:\n",
    "    model: model in ['rf','adaboost']\n",
    "    \"\"\"\n",
    "    model_dict = dict()\n",
    "    if model == 'rf':\n",
    "        for i in data:\n",
    "            rfc = RandomForestClassifier(max_depth=30, random_state=0) #max_depth ~ sqrt(n_features=1000)\n",
    "            rfc.fit(data[i][:,:-1],data[i][:,-1])\n",
    "            model_dict[i] = rfc\n",
    "    elif model == 'adaboost':\n",
    "        for i in data:\n",
    "            ada = AdaBoostClassifier(n_estimators=50, random_state=0)\n",
    "            ada.fit(data[i][:,:-1],data[i][:,-1])\n",
    "            model_dict[i] = ada\n",
    "    return model_dict"
   ]
  },
  {
   "cell_type": "code",
   "execution_count": 12,
   "metadata": {},
   "outputs": [],
   "source": [
    "model_dict_rf = model_dict(train_data, model='rf')\n",
    "# model_dict_ada = model_dict(train_data, model='adaboost')"
   ]
  },
  {
   "cell_type": "code",
   "execution_count": 13,
   "metadata": {},
   "outputs": [
    {
     "name": "stdout",
     "output_type": "stream",
     "text": [
      "score for outdoor.csv\n",
      "rf 0.9699812382739212\n",
      "\n",
      "\n",
      "score for reading.csv\n",
      "rf 1.0\n",
      "\n",
      "\n",
      "score for call.csv\n",
      "rf 1.0\n",
      "\n",
      "\n",
      "score for dinner.csv\n",
      "rf 0.9930887825624668\n",
      "\n",
      "\n",
      "score for game.csv\n",
      "rf 0.9251412429378532\n",
      "\n",
      "\n",
      "score for TV.csv\n",
      "rf 0.9867549668874173\n",
      "\n",
      "\n"
     ]
    }
   ],
   "source": [
    "\"\"\"\n",
    "rf/adaboost as the baseline and calculate the score for test_data\n",
    "\"\"\"\n",
    "for i in test_data:\n",
    "    print('score for ' + i)\n",
    "    print('rf',model_dict_rf[i].score(test_data[i][:,:-1],test_data[i][:,-1]))\n",
    "#     print('adaboost',model_dict_ada[i].score(test_data[i][:,:-1],test_data[i][:,-1]))\n",
    "    print(\"\\n\")"
   ]
  },
  {
   "cell_type": "code",
   "execution_count": 14,
   "metadata": {
    "scrolled": false
   },
   "outputs": [
    {
     "name": "stdout",
     "output_type": "stream",
     "text": [
      "report for outdoor.csv\n",
      "rf\n",
      "              precision    recall  f1-score   support\n",
      "\n",
      "           m       0.00      0.00      0.00        16\n",
      "       other       0.97      1.00      0.98       517\n",
      "\n",
      "    accuracy                           0.97       533\n",
      "   macro avg       0.48      0.50      0.49       533\n",
      "weighted avg       0.94      0.97      0.96       533\n",
      "\n",
      "\n",
      "\n",
      "report for reading.csv\n",
      "rf\n",
      "              precision    recall  f1-score   support\n",
      "\n",
      "       other       1.00      1.00      1.00       226\n",
      "\n",
      "    accuracy                           1.00       226\n",
      "   macro avg       1.00      1.00      1.00       226\n",
      "weighted avg       1.00      1.00      1.00       226\n",
      "\n",
      "\n",
      "\n",
      "report for call.csv\n",
      "rf\n",
      "              precision    recall  f1-score   support\n",
      "\n",
      "       other       1.00      1.00      1.00       406\n",
      "\n",
      "    accuracy                           1.00       406\n",
      "   macro avg       1.00      1.00      1.00       406\n",
      "weighted avg       1.00      1.00      1.00       406\n",
      "\n",
      "\n",
      "\n",
      "report for dinner.csv\n",
      "rf\n"
     ]
    },
    {
     "name": "stderr",
     "output_type": "stream",
     "text": [
      "/usr/local/lib/python3.8/site-packages/sklearn/metrics/_classification.py:1221: UndefinedMetricWarning: Precision and F-score are ill-defined and being set to 0.0 in labels with no predicted samples. Use `zero_division` parameter to control this behavior.\n",
      "  _warn_prf(average, modifier, msg_start, len(result))\n",
      "/usr/local/lib/python3.8/site-packages/sklearn/metrics/_classification.py:1221: UndefinedMetricWarning: Precision and F-score are ill-defined and being set to 0.0 in labels with no predicted samples. Use `zero_division` parameter to control this behavior.\n",
      "  _warn_prf(average, modifier, msg_start, len(result))\n"
     ]
    },
    {
     "name": "stdout",
     "output_type": "stream",
     "text": [
      "              precision    recall  f1-score   support\n",
      "\n",
      "           m       0.00      0.00      0.00        26\n",
      "       other       0.99      1.00      1.00      3736\n",
      "\n",
      "    accuracy                           0.99      3762\n",
      "   macro avg       0.50      0.50      0.50      3762\n",
      "weighted avg       0.99      0.99      0.99      3762\n",
      "\n",
      "\n",
      "\n",
      "report for game.csv\n",
      "rf\n",
      "              precision    recall  f1-score   support\n",
      "\n",
      "           m       0.00      0.00      0.00       106\n",
      "       other       0.93      1.00      0.96      1310\n",
      "\n",
      "    accuracy                           0.93      1416\n",
      "   macro avg       0.46      0.50      0.48      1416\n",
      "weighted avg       0.86      0.93      0.89      1416\n",
      "\n",
      "\n",
      "\n",
      "report for TV.csv\n",
      "rf\n",
      "              precision    recall  f1-score   support\n",
      "\n",
      "           m       0.00      0.00      0.00         4\n",
      "       other       0.99      1.00      0.99       298\n",
      "\n",
      "    accuracy                           0.99       302\n",
      "   macro avg       0.49      0.50      0.50       302\n",
      "weighted avg       0.97      0.99      0.98       302\n",
      "\n",
      "\n",
      "\n"
     ]
    },
    {
     "name": "stderr",
     "output_type": "stream",
     "text": [
      "/usr/local/lib/python3.8/site-packages/sklearn/metrics/_classification.py:1221: UndefinedMetricWarning: Precision and F-score are ill-defined and being set to 0.0 in labels with no predicted samples. Use `zero_division` parameter to control this behavior.\n",
      "  _warn_prf(average, modifier, msg_start, len(result))\n",
      "/usr/local/lib/python3.8/site-packages/sklearn/metrics/_classification.py:1221: UndefinedMetricWarning: Precision and F-score are ill-defined and being set to 0.0 in labels with no predicted samples. Use `zero_division` parameter to control this behavior.\n",
      "  _warn_prf(average, modifier, msg_start, len(result))\n"
     ]
    }
   ],
   "source": [
    "for i in test_data:\n",
    "    print('report for ' + i)\n",
    "    print('rf')\n",
    "    print(classification_report(test_data[i][:,-1],model_dict_rf[i].predict(test_data[i][:,:-1])))\n",
    "#     print('rf',model_dict_rf[i].score(test_data[i][:,:-1],test_data[i][:,-1]))\n",
    "#     print('adaboost',model_dict_ada[i].score(test_data[i][:,:-1],test_data[i][:,-1]))\n",
    "#     print('adaboost')\n",
    "#     print(classification_report(test_data[i][:,-1],model_dict_ada[i].predict(test_data[i][:,:-1])))\n",
    "    print(\"\\n\")"
   ]
  },
  {
   "cell_type": "code",
   "execution_count": 31,
   "metadata": {},
   "outputs": [
    {
     "data": {
      "text/plain": [
       "'\\n强烈建议试试其他人或者其他标签\\n'"
      ]
     },
     "execution_count": 31,
     "metadata": {},
     "output_type": "execute_result"
    }
   ],
   "source": [
    "\"\"\"\n",
    "强烈建议试试其他人或者其他标签\n",
    "\"\"\""
   ]
  },
  {
   "cell_type": "code",
   "execution_count": 15,
   "metadata": {},
   "outputs": [],
   "source": [
    "\"\"\"\n",
    "这里以下到下一个注释是之前写的有点乱。。。\n",
    "表示的是不做二分类，强行用rf/adaboost对六个场景所有标签直接分类. 效果很差\n",
    "\"\"\"\n",
    "main_path = os.getcwd()\n",
    "dir_list = os.listdir(os.path.join(main_path,'p1'))\n",
    "original_data = {}\n",
    "main_list = ['p'+str(i) for i in range(1,7)]\n",
    "for i in main_list:\n",
    "    for j in dir_list:\n",
    "        d = pd.read_csv(os.path.join(main_path,i,j),low_memory=False)\n",
    "        d = np.array(d)\n",
    "        if original_data.get(j) is None:\n",
    "            original_data[j] = d\n",
    "        else:\n",
    "            original_data[j] = np.r_[original_data[j],d]"
   ]
  },
  {
   "cell_type": "code",
   "execution_count": 16,
   "metadata": {},
   "outputs": [],
   "source": [
    "original_test_data = dict()\n",
    "for i in dir_list:\n",
    "    d = pd.read_csv(os.path.join(main_path,'p7',i),low_memory=False)\n",
    "    d = np.array(d)\n",
    "    original_test_data[i] = d"
   ]
  },
  {
   "cell_type": "code",
   "execution_count": 155,
   "metadata": {},
   "outputs": [],
   "source": [
    "original_model_dict = dict()\n",
    "for i in data:\n",
    "    rfc = RandomForestClassifier(max_depth=30, random_state=0)\n",
    "    rfc.fit(original_data[i][:,:-1],original_data[i][:,-1])\n",
    "    original_model_dict[i] = rfc"
   ]
  },
  {
   "cell_type": "code",
   "execution_count": 172,
   "metadata": {
    "scrolled": false
   },
   "outputs": [
    {
     "name": "stdout",
     "output_type": "stream",
     "text": [
      "\n",
      " outdoor.csv\n",
      "              precision    recall  f1-score   support\n",
      "\n",
      "           1       0.71      0.74      0.72       273\n",
      "           2       0.28      0.31      0.29       100\n",
      "           b       0.86      0.87      0.86       284\n",
      "           m       0.00      0.00      0.00        26\n",
      "           x       0.00      0.00      0.00         1\n",
      "\n",
      "    accuracy                           0.70       684\n",
      "   macro avg       0.37      0.38      0.38       684\n",
      "weighted avg       0.68      0.70      0.69       684\n",
      "\n",
      "\n",
      " reading.csv\n",
      "              precision    recall  f1-score   support\n",
      "\n",
      "           1       0.97      0.99      0.98       213\n",
      "           b       0.86      0.67      0.75        18\n",
      "\n",
      "    accuracy                           0.97       231\n",
      "   macro avg       0.91      0.83      0.87       231\n",
      "weighted avg       0.96      0.97      0.96       231\n",
      "\n",
      "\n",
      " call.csv\n",
      "              precision    recall  f1-score   support\n",
      "\n",
      "           1       0.91      0.98      0.94       336\n",
      "           b       0.00      0.00      0.00        23\n",
      "           m       0.00      0.00      0.00        23\n",
      "           p       0.80      0.94      0.86       125\n",
      "\n",
      "    accuracy                           0.88       507\n",
      "   macro avg       0.43      0.48      0.45       507\n",
      "weighted avg       0.80      0.88      0.84       507\n",
      "\n",
      "\n",
      " dinner.csv\n"
     ]
    },
    {
     "name": "stderr",
     "output_type": "stream",
     "text": [
      "/usr/local/lib/python3.8/site-packages/sklearn/metrics/_classification.py:1221: UndefinedMetricWarning: Precision and F-score are ill-defined and being set to 0.0 in labels with no predicted samples. Use `zero_division` parameter to control this behavior.\n",
      "  _warn_prf(average, modifier, msg_start, len(result))\n",
      "/usr/local/lib/python3.8/site-packages/sklearn/metrics/_classification.py:1221: UndefinedMetricWarning: Precision and F-score are ill-defined and being set to 0.0 in labels with no predicted samples. Use `zero_division` parameter to control this behavior.\n",
      "  _warn_prf(average, modifier, msg_start, len(result))\n",
      "/usr/local/lib/python3.8/site-packages/sklearn/metrics/_classification.py:1221: UndefinedMetricWarning: Precision and F-score are ill-defined and being set to 0.0 in labels with no predicted samples. Use `zero_division` parameter to control this behavior.\n",
      "  _warn_prf(average, modifier, msg_start, len(result))\n",
      "/usr/local/lib/python3.8/site-packages/sklearn/metrics/_classification.py:1221: UndefinedMetricWarning: Precision and F-score are ill-defined and being set to 0.0 in labels with no predicted samples. Use `zero_division` parameter to control this behavior.\n",
      "  _warn_prf(average, modifier, msg_start, len(result))\n",
      "/usr/local/lib/python3.8/site-packages/sklearn/metrics/_classification.py:1221: UndefinedMetricWarning: Recall and F-score are ill-defined and being set to 0.0 in labels with no true samples. Use `zero_division` parameter to control this behavior.\n",
      "  _warn_prf(average, modifier, msg_start, len(result))\n",
      "/usr/local/lib/python3.8/site-packages/sklearn/metrics/_classification.py:1221: UndefinedMetricWarning: Recall and F-score are ill-defined and being set to 0.0 in labels with no true samples. Use `zero_division` parameter to control this behavior.\n",
      "  _warn_prf(average, modifier, msg_start, len(result))\n"
     ]
    },
    {
     "name": "stdout",
     "output_type": "stream",
     "text": [
      "              precision    recall  f1-score   support\n",
      "\n",
      "           1       0.93      0.69      0.79       557\n",
      "           2       0.39      0.38      0.39       198\n",
      "           b       0.70      0.94      0.81      1462\n",
      "           m       0.00      0.00      0.00        18\n",
      "           p       0.00      0.00      0.00         7\n",
      "           t       0.73      0.48      0.58       922\n",
      "           x       0.00      0.00      0.00        13\n",
      "\n",
      "    accuracy                           0.72      3177\n",
      "   macro avg       0.39      0.36      0.37      3177\n",
      "weighted avg       0.72      0.72      0.70      3177\n",
      "\n",
      "\n",
      " game.csv\n",
      "              precision    recall  f1-score   support\n",
      "\n",
      "           1       0.72      0.82      0.77       201\n",
      "           2       0.59      0.57      0.58        72\n",
      "           b       0.90      0.91      0.90       278\n",
      "           m       0.00      0.00      0.00        24\n",
      "           t       0.00      0.00      0.00         0\n",
      "           x       0.00      0.00      0.00         5\n",
      "\n",
      "    accuracy                           0.79       580\n",
      "   macro avg       0.37      0.38      0.37       580\n",
      "weighted avg       0.75      0.79      0.77       580\n",
      "\n",
      "\n",
      " TV.csv\n",
      "              precision    recall  f1-score   support\n",
      "\n",
      "           1       1.00      0.23      0.37        35\n",
      "           2       0.00      0.00      0.00         0\n",
      "           b       0.38      0.10      0.16        30\n",
      "           t       0.97      1.00      0.98      1428\n",
      "\n",
      "    accuracy                           0.96      1493\n",
      "   macro avg       0.59      0.33      0.38      1493\n",
      "weighted avg       0.96      0.96      0.95      1493\n",
      "\n"
     ]
    }
   ],
   "source": [
    "for i in original_test_data:\n",
    "    temp_data = original_test_data[i]\n",
    "    print(\"\\n\",i)\n",
    "    y_pred = original_model_dict[i].predict(temp_data[:,:-1]) \n",
    "    print(classification_report(original_test_data[i][:,-1],y_pred))"
   ]
  },
  {
   "cell_type": "code",
   "execution_count": 34,
   "metadata": {},
   "outputs": [
    {
     "name": "stdout",
     "output_type": "stream",
     "text": [
      "outdoor.csv\n",
      "Counter({'b': 791, '1': 768, '2': 746, 'm': 179, 'x': 125, 'c': 82})\n",
      "Counter({'b': 284, '1': 273, '2': 100, 'm': 26, 'x': 1})\n",
      "\n",
      "\n",
      "reading.csv\n",
      "Counter({'1': 1084, 'b': 138, 'x': 5, '2': 1, 'm': 1})\n",
      "Counter({'1': 213, 'b': 18})\n",
      "\n",
      "\n",
      "call.csv\n",
      "Counter({'p': 1112, '1': 973, 'b': 142, 'm': 129, 'c': 13, '2': 5})\n",
      "Counter({'1': 336, 'p': 125, 'b': 23, 'm': 23})\n",
      "\n",
      "\n",
      "dinner.csv\n",
      "Counter({'b': 8191, 't': 5634, '2': 3056, '1': 2236, 'm': 430, 'c': 404, 'x': 323, 'p': 29})\n",
      "Counter({'b': 1462, 't': 922, '1': 557, '2': 198, 'm': 18, 'x': 13, 'p': 7})\n",
      "\n",
      "\n",
      "game.csv\n",
      "Counter({'1': 1905, 'b': 1544, '2': 896, 'm': 343, 't': 281, 'c': 62, 'x': 39})\n",
      "Counter({'b': 278, '1': 201, '2': 72, 'm': 24, 'x': 5})\n",
      "\n",
      "\n",
      "TV.csv\n",
      "Counter({'t': 2726, '2': 284, '1': 245, 'b': 202, 'c': 81, 'm': 29, 'x': 25})\n",
      "Counter({'t': 1428, '1': 35, 'b': 30})\n",
      "\n",
      "\n"
     ]
    }
   ],
   "source": [
    "\"\"\"\n",
    "每个场景的train/test标签对比情况\n",
    "\"\"\"\n",
    "for i in original_test_data:\n",
    "    print(i)\n",
    "    print(Counter(original_data[i][:,-1]))\n",
    "    print(Counter(original_test_data[i][:,-1]))\n",
    "    print(\"\\n\")"
   ]
  },
  {
   "cell_type": "code",
   "execution_count": 178,
   "metadata": {},
   "outputs": [],
   "source": [
    "original_adaboost_dict = dict()\n",
    "for i in data:\n",
    "    rfc = AdaBoostClassifier(n_estimators=100, random_state=0)\n",
    "    rfc.fit(original_data[i][:,:-1],original_data[i][:,-1])\n",
    "    original_adaboost_dict[i] = rfc"
   ]
  },
  {
   "cell_type": "code",
   "execution_count": 179,
   "metadata": {
    "scrolled": false
   },
   "outputs": [
    {
     "name": "stdout",
     "output_type": "stream",
     "text": [
      "\n",
      " outdoor.csv\n"
     ]
    },
    {
     "name": "stderr",
     "output_type": "stream",
     "text": [
      "/usr/local/lib/python3.8/site-packages/sklearn/metrics/_classification.py:1221: UndefinedMetricWarning: Recall and F-score are ill-defined and being set to 0.0 in labels with no true samples. Use `zero_division` parameter to control this behavior.\n",
      "  _warn_prf(average, modifier, msg_start, len(result))\n"
     ]
    },
    {
     "name": "stdout",
     "output_type": "stream",
     "text": [
      "              precision    recall  f1-score   support\n",
      "\n",
      "           1       0.68      0.61      0.64       273\n",
      "           2       0.07      0.06      0.07       100\n",
      "           b       0.76      0.86      0.81       284\n",
      "           c       0.00      0.00      0.00         0\n",
      "           m       0.13      0.12      0.12        26\n",
      "           x       0.00      0.00      0.00         1\n",
      "\n",
      "    accuracy                           0.61       684\n",
      "   macro avg       0.27      0.27      0.27       684\n",
      "weighted avg       0.60      0.61      0.61       684\n",
      "\n",
      "\n",
      " reading.csv\n",
      "              precision    recall  f1-score   support\n",
      "\n",
      "           1       0.98      0.99      0.98       213\n",
      "           b       0.87      0.72      0.79        18\n",
      "\n",
      "    accuracy                           0.97       231\n",
      "   macro avg       0.92      0.86      0.89       231\n",
      "weighted avg       0.97      0.97      0.97       231\n",
      "\n",
      "\n",
      " call.csv\n"
     ]
    },
    {
     "name": "stderr",
     "output_type": "stream",
     "text": [
      "/usr/local/lib/python3.8/site-packages/sklearn/metrics/_classification.py:1221: UndefinedMetricWarning: Precision and F-score are ill-defined and being set to 0.0 in labels with no predicted samples. Use `zero_division` parameter to control this behavior.\n",
      "  _warn_prf(average, modifier, msg_start, len(result))\n"
     ]
    },
    {
     "name": "stdout",
     "output_type": "stream",
     "text": [
      "              precision    recall  f1-score   support\n",
      "\n",
      "           1       0.89      0.98      0.93       336\n",
      "           b       0.00      0.00      0.00        23\n",
      "           m       0.00      0.00      0.00        23\n",
      "           p       0.80      0.87      0.83       125\n",
      "\n",
      "    accuracy                           0.86       507\n",
      "   macro avg       0.42      0.46      0.44       507\n",
      "weighted avg       0.78      0.86      0.82       507\n",
      "\n",
      "\n",
      " dinner.csv\n"
     ]
    },
    {
     "name": "stderr",
     "output_type": "stream",
     "text": [
      "/usr/local/lib/python3.8/site-packages/sklearn/metrics/_classification.py:1221: UndefinedMetricWarning: Precision and F-score are ill-defined and being set to 0.0 in labels with no predicted samples. Use `zero_division` parameter to control this behavior.\n",
      "  _warn_prf(average, modifier, msg_start, len(result))\n",
      "/usr/local/lib/python3.8/site-packages/sklearn/metrics/_classification.py:1221: UndefinedMetricWarning: Recall and F-score are ill-defined and being set to 0.0 in labels with no true samples. Use `zero_division` parameter to control this behavior.\n",
      "  _warn_prf(average, modifier, msg_start, len(result))\n"
     ]
    },
    {
     "name": "stdout",
     "output_type": "stream",
     "text": [
      "              precision    recall  f1-score   support\n",
      "\n",
      "           1       0.81      0.63      0.71       557\n",
      "           2       0.20      0.16      0.18       198\n",
      "           b       0.69      0.86      0.77      1462\n",
      "           c       0.00      0.00      0.00         0\n",
      "           m       0.05      0.11      0.07        18\n",
      "           p       0.00      0.00      0.00         7\n",
      "           t       0.64      0.50      0.56       922\n",
      "           x       0.00      0.00      0.00        13\n",
      "\n",
      "    accuracy                           0.66      3177\n",
      "   macro avg       0.30      0.28      0.28      3177\n",
      "weighted avg       0.66      0.66      0.65      3177\n",
      "\n",
      "\n",
      " game.csv\n"
     ]
    },
    {
     "name": "stderr",
     "output_type": "stream",
     "text": [
      "/usr/local/lib/python3.8/site-packages/sklearn/metrics/_classification.py:1221: UndefinedMetricWarning: Recall and F-score are ill-defined and being set to 0.0 in labels with no true samples. Use `zero_division` parameter to control this behavior.\n",
      "  _warn_prf(average, modifier, msg_start, len(result))\n"
     ]
    },
    {
     "name": "stdout",
     "output_type": "stream",
     "text": [
      "              precision    recall  f1-score   support\n",
      "\n",
      "           1       0.55      0.32      0.41       201\n",
      "           2       0.58      0.31      0.40        72\n",
      "           b       0.85      0.78      0.81       278\n",
      "           c       0.00      0.00      0.00         0\n",
      "           m       0.09      0.46      0.15        24\n",
      "           t       0.00      0.00      0.00         0\n",
      "           x       0.00      0.00      0.00         5\n",
      "\n",
      "    accuracy                           0.54       580\n",
      "   macro avg       0.29      0.27      0.25       580\n",
      "weighted avg       0.67      0.54      0.59       580\n",
      "\n",
      "\n",
      " TV.csv\n",
      "              precision    recall  f1-score   support\n",
      "\n",
      "           1       0.81      0.37      0.51        35\n",
      "           2       0.00      0.00      0.00         0\n",
      "           b       0.01      0.03      0.02        30\n",
      "           c       0.00      0.00      0.00         0\n",
      "           m       0.00      0.00      0.00         0\n",
      "           t       0.97      0.94      0.96      1428\n",
      "           x       0.00      0.00      0.00         0\n",
      "\n",
      "    accuracy                           0.91      1493\n",
      "   macro avg       0.26      0.19      0.21      1493\n",
      "weighted avg       0.95      0.91      0.93      1493\n",
      "\n"
     ]
    },
    {
     "name": "stderr",
     "output_type": "stream",
     "text": [
      "/usr/local/lib/python3.8/site-packages/sklearn/metrics/_classification.py:1221: UndefinedMetricWarning: Recall and F-score are ill-defined and being set to 0.0 in labels with no true samples. Use `zero_division` parameter to control this behavior.\n",
      "  _warn_prf(average, modifier, msg_start, len(result))\n"
     ]
    }
   ],
   "source": [
    "for i in original_test_data:\n",
    "    temp_data = original_test_data[i]\n",
    "    print(\"\\n\",i)\n",
    "    y_pred = original_adaboost_dict[i].predict(temp_data[:,:-1]) \n",
    "    print(classification_report(original_test_data[i][:,-1],y_pred))"
   ]
  },
  {
   "cell_type": "code",
   "execution_count": 17,
   "metadata": {},
   "outputs": [
    {
     "name": "stderr",
     "output_type": "stream",
     "text": [
      "/usr/local/lib/python3.8/site-packages/cleanlab/pruning.py:38: UserWarning: If you want to see estimated completion times\n",
      "    while running methods in cleanlab.pruning, install tqdm\n",
      "    via \"pip install tqdm\".\n",
      "  warnings.warn(w)\n"
     ]
    }
   ],
   "source": [
    "\"\"\"\n",
    "这边开始是 cleanlab 洗标签过程\n",
    "[这部分我昨天做的时候是对6个场景分别训一个模型然后分别洗掉错误标签] 但过程里其实是有点小问题的，他这个算法原理需要做交叉验证然后从之前那个train/test label分布里面我们就看到在某些场景中\n",
    "其实有些label可能只有很少(甚至只有1个)。所以就意味着不能split,就会出现点bug\n",
    "\n",
    "[所以可能我觉得可以考虑不分场景先把数据洗一遍]\n",
    "\"\"\"\n",
    "\"\"\"\n",
    "以下代码都是昨天写的，只针对outdoor.csv这一个场景做了测试\n",
    "先把train和test各自洗一遍（实际情况是test由于某个label只有一个这个算法报错了，于是没洗test直接做的测试，结果也是很一般 '1'这个类基本区分不出来）\n",
    "\"\"\"\n",
    "from cleanlab.classification import LearningWithNoisyLabels\n",
    "temp_data = original_data['outdoor.csv']\n",
    "temp_test = original_test_data['outdoor.csv']"
   ]
  },
  {
   "cell_type": "code",
   "execution_count": 18,
   "metadata": {},
   "outputs": [],
   "source": [
    "def temp_convert(value):\n",
    "    if value == '1':\n",
    "        return 0\n",
    "    elif value == '2':\n",
    "        return 1\n",
    "    elif value == 'b':\n",
    "        return 2\n",
    "    elif value == 'c':\n",
    "        return 3\n",
    "    elif value == 'm':\n",
    "        return 4\n",
    "    elif value == 'x':\n",
    "        return 5\n",
    "\n",
    "def temp_transform(data):\n",
    "    data_cp = data.copy()\n",
    "    for i in range(data.shape[0]):\n",
    "        temp = temp_convert(data[:,-1][i])\n",
    "        data_cp[:,-1][i] = temp\n",
    "    return data_cp"
   ]
  },
  {
   "cell_type": "code",
   "execution_count": 19,
   "metadata": {},
   "outputs": [],
   "source": [
    "temp_data = temp_transform(temp_data)\n",
    "temp_test = temp_transform(temp_test)"
   ]
  },
  {
   "cell_type": "code",
   "execution_count": 20,
   "metadata": {},
   "outputs": [],
   "source": [
    "temp_data_X = np.array(temp_data[:,:-1],dtype=np.float)\n",
    "temp_data_Y = np.array(temp_data[:,-1],dtype=np.int64)"
   ]
  },
  {
   "cell_type": "code",
   "execution_count": 21,
   "metadata": {},
   "outputs": [],
   "source": [
    "temp_test_X = np.array(temp_test[:,:-1],dtype=np.float)\n",
    "temp_test_Y = np.array(temp_test[:,-1],dtype=np.int64)"
   ]
  },
  {
   "cell_type": "code",
   "execution_count": 22,
   "metadata": {},
   "outputs": [],
   "source": [
    "# 其实可以封装任意一个你自定义的模型.\n",
    "lnl = LearningWithNoisyLabels(clf=RandomForestClassifier(max_depth=30,random_state=0))\n",
    "lnl.fit(X=temp_data_X, s=temp_data_Y)\n",
    "# 对真实世界进行验证.\n",
    "predicted_test_labels = lnl.predict(temp_test_X)\n",
    "# print(classification_report(temp_test_Y,predicted_test_labels))"
   ]
  },
  {
   "cell_type": "code",
   "execution_count": 23,
   "metadata": {},
   "outputs": [],
   "source": [
    "import cleanlab\n",
    "psx = cleanlab.latent_estimation.estimate_cv_predicted_probabilities(\n",
    "    temp_data_X, temp_data_Y, clf=RandomForestClassifier(max_depth=30, random_state=0))"
   ]
  },
  {
   "cell_type": "code",
   "execution_count": 24,
   "metadata": {},
   "outputs": [],
   "source": [
    "from cleanlab.pruning import get_noise_indices\n",
    "psx = np.asarray(psx)\n",
    "ordered_label_errors = get_noise_indices(\n",
    "    s=temp_data_Y,\n",
    "    psx=psx,\n",
    "    sorted_index_method='normalized_margin', # Orders label errors\n",
    " )"
   ]
  },
  {
   "cell_type": "code",
   "execution_count": 25,
   "metadata": {},
   "outputs": [],
   "source": [
    "index_list_data = np.array(list(range(len(temp_data_X))))\n",
    "index_list_test = np.array(list(range(len(temp_test_X))))"
   ]
  },
  {
   "cell_type": "code",
   "execution_count": 26,
   "metadata": {},
   "outputs": [],
   "source": [
    "cp_index_list_data = []\n",
    "for i in index_list_data:\n",
    "    if i in ordered_label_errors:\n",
    "        cp_index_list_data.append(False)\n",
    "    else:\n",
    "        cp_index_list_data.append(True)"
   ]
  },
  {
   "cell_type": "code",
   "execution_count": 27,
   "metadata": {},
   "outputs": [
    {
     "data": {
      "text/plain": [
       "Counter({0: 589, 1: 618, 2: 695, 4: 69, 5: 36, 3: 29})"
      ]
     },
     "execution_count": 27,
     "metadata": {},
     "output_type": "execute_result"
    }
   ],
   "source": [
    "Counter(temp_data_Y[cp_index_list_data])"
   ]
  },
  {
   "cell_type": "code",
   "execution_count": 28,
   "metadata": {},
   "outputs": [
    {
     "data": {
      "text/plain": [
       "Counter({0: 768, 1: 746, 2: 791, 4: 179, 5: 125, 3: 82})"
      ]
     },
     "execution_count": 28,
     "metadata": {},
     "output_type": "execute_result"
    }
   ],
   "source": [
    "Counter(temp_data_Y)"
   ]
  },
  {
   "cell_type": "code",
   "execution_count": 260,
   "metadata": {},
   "outputs": [
    {
     "data": {
      "text/plain": [
       "RandomForestClassifier(max_depth=30, random_state=0)"
      ]
     },
     "execution_count": 260,
     "metadata": {},
     "output_type": "execute_result"
    }
   ],
   "source": [
    "rfc = RandomForestClassifier(max_depth=30, random_state=0)\n",
    "rfc.fit(temp_data_X[cp_index_list_data,:],temp_data_Y[cp_index_list_data])"
   ]
  },
  {
   "cell_type": "code",
   "execution_count": 276,
   "metadata": {},
   "outputs": [
    {
     "name": "stderr",
     "output_type": "stream",
     "text": [
      "/usr/local/lib/python3.8/site-packages/sklearn/model_selection/_split.py:670: UserWarning: The least populated class in y has only 1 members, which is less than n_splits=5.\n",
      "  warnings.warn((\"The least populated class in y has only %d\"\n"
     ]
    },
    {
     "ename": "ValueError",
     "evalue": "min_samples_split must be an integer greater than 1 or a float in (0.0, 1.0]; got the integer 1",
     "output_type": "error",
     "traceback": [
      "\u001b[0;31m---------------------------------------------------------------------------\u001b[0m",
      "\u001b[0;31mValueError\u001b[0m                                Traceback (most recent call last)",
      "\u001b[0;32m<ipython-input-276-fd86699078a6>\u001b[0m in \u001b[0;36m<module>\u001b[0;34m\u001b[0m\n\u001b[1;32m      2\u001b[0m \u001b[0m再给test洗一次\u001b[0m\u001b[0;34m\u001b[0m\u001b[0;34m\u001b[0m\u001b[0m\n\u001b[1;32m      3\u001b[0m \"\"\"\n\u001b[0;32m----> 4\u001b[0;31m psx_test = cleanlab.latent_estimation.estimate_cv_predicted_probabilities(\n\u001b[0m\u001b[1;32m      5\u001b[0m     temp_test_X, temp_test_Y, clf=RandomForestClassifier(max_depth=30, random_state=0,min_samples_split=1))\n\u001b[1;32m      6\u001b[0m \u001b[0mpsx_test\u001b[0m \u001b[0;34m=\u001b[0m \u001b[0mnp\u001b[0m\u001b[0;34m.\u001b[0m\u001b[0masarray\u001b[0m\u001b[0;34m(\u001b[0m\u001b[0mpsx_test\u001b[0m\u001b[0;34m)\u001b[0m\u001b[0;34m\u001b[0m\u001b[0;34m\u001b[0m\u001b[0m\n",
      "\u001b[0;32m/usr/local/lib/python3.8/site-packages/cleanlab/latent_estimation.py\u001b[0m in \u001b[0;36mestimate_cv_predicted_probabilities\u001b[0;34m(X, labels, clf, cv_n_folds, seed)\u001b[0m\n\u001b[1;32m    739\u001b[0m         should have been computed using 3 (or higher) fold cross-validation.\"\"\"\n\u001b[1;32m    740\u001b[0m \u001b[0;34m\u001b[0m\u001b[0m\n\u001b[0;32m--> 741\u001b[0;31m     return estimate_py_noise_matrices_and_cv_pred_proba(\n\u001b[0m\u001b[1;32m    742\u001b[0m         \u001b[0mX\u001b[0m\u001b[0;34m=\u001b[0m\u001b[0mX\u001b[0m\u001b[0;34m,\u001b[0m\u001b[0;34m\u001b[0m\u001b[0;34m\u001b[0m\u001b[0m\n\u001b[1;32m    743\u001b[0m         \u001b[0ms\u001b[0m\u001b[0;34m=\u001b[0m\u001b[0mlabels\u001b[0m\u001b[0;34m,\u001b[0m\u001b[0;34m\u001b[0m\u001b[0;34m\u001b[0m\u001b[0m\n",
      "\u001b[0;32m/usr/local/lib/python3.8/site-packages/cleanlab/latent_estimation.py\u001b[0m in \u001b[0;36mestimate_py_noise_matrices_and_cv_pred_proba\u001b[0;34m(X, s, clf, cv_n_folds, thresholds, converge_latent_estimates, py_method, seed)\u001b[0m\n\u001b[1;32m    679\u001b[0m       joint count matrix i.e. confident joint, predicted probability matrix)\"\"\"\n\u001b[1;32m    680\u001b[0m \u001b[0;34m\u001b[0m\u001b[0m\n\u001b[0;32m--> 681\u001b[0;31m     confident_joint, psx = estimate_confident_joint_and_cv_pred_proba(\n\u001b[0m\u001b[1;32m    682\u001b[0m         \u001b[0mX\u001b[0m\u001b[0;34m=\u001b[0m\u001b[0mX\u001b[0m\u001b[0;34m,\u001b[0m\u001b[0;34m\u001b[0m\u001b[0;34m\u001b[0m\u001b[0m\n\u001b[1;32m    683\u001b[0m         \u001b[0ms\u001b[0m\u001b[0;34m=\u001b[0m\u001b[0ms\u001b[0m\u001b[0;34m,\u001b[0m\u001b[0;34m\u001b[0m\u001b[0;34m\u001b[0m\u001b[0m\n",
      "\u001b[0;32m/usr/local/lib/python3.8/site-packages/cleanlab/latent_estimation.py\u001b[0m in \u001b[0;36mestimate_confident_joint_and_cv_pred_proba\u001b[0;34m(X, s, clf, cv_n_folds, thresholds, seed, calibrate)\u001b[0m\n\u001b[1;32m    598\u001b[0m         \u001b[0;31m# Fit the clf classifier to the training set and\u001b[0m\u001b[0;34m\u001b[0m\u001b[0;34m\u001b[0m\u001b[0;34m\u001b[0m\u001b[0m\n\u001b[1;32m    599\u001b[0m         \u001b[0;31m# predict on the holdout set and update psx.\u001b[0m\u001b[0;34m\u001b[0m\u001b[0;34m\u001b[0m\u001b[0;34m\u001b[0m\u001b[0m\n\u001b[0;32m--> 600\u001b[0;31m         \u001b[0mclf_copy\u001b[0m\u001b[0;34m.\u001b[0m\u001b[0mfit\u001b[0m\u001b[0;34m(\u001b[0m\u001b[0mX_train_cv\u001b[0m\u001b[0;34m,\u001b[0m \u001b[0ms_train_cv\u001b[0m\u001b[0;34m)\u001b[0m\u001b[0;34m\u001b[0m\u001b[0;34m\u001b[0m\u001b[0m\n\u001b[0m\u001b[1;32m    601\u001b[0m         \u001b[0mpsx_cv\u001b[0m \u001b[0;34m=\u001b[0m \u001b[0mclf_copy\u001b[0m\u001b[0;34m.\u001b[0m\u001b[0mpredict_proba\u001b[0m\u001b[0;34m(\u001b[0m\u001b[0mX_holdout_cv\u001b[0m\u001b[0;34m)\u001b[0m  \u001b[0;31m# P(s = k|x) # [:,1]\u001b[0m\u001b[0;34m\u001b[0m\u001b[0;34m\u001b[0m\u001b[0m\n\u001b[1;32m    602\u001b[0m         \u001b[0mpsx\u001b[0m\u001b[0;34m[\u001b[0m\u001b[0mcv_holdout_idx\u001b[0m\u001b[0;34m]\u001b[0m \u001b[0;34m=\u001b[0m \u001b[0mpsx_cv\u001b[0m\u001b[0;34m\u001b[0m\u001b[0;34m\u001b[0m\u001b[0m\n",
      "\u001b[0;32m/usr/local/lib/python3.8/site-packages/sklearn/ensemble/_forest.py\u001b[0m in \u001b[0;36mfit\u001b[0;34m(self, X, y, sample_weight)\u001b[0m\n\u001b[1;32m    384\u001b[0m             \u001b[0;31m# parallel_backend contexts set at a higher level,\u001b[0m\u001b[0;34m\u001b[0m\u001b[0;34m\u001b[0m\u001b[0;34m\u001b[0m\u001b[0m\n\u001b[1;32m    385\u001b[0m             \u001b[0;31m# since correctness does not rely on using threads.\u001b[0m\u001b[0;34m\u001b[0m\u001b[0;34m\u001b[0m\u001b[0;34m\u001b[0m\u001b[0m\n\u001b[0;32m--> 386\u001b[0;31m             trees = Parallel(n_jobs=self.n_jobs, verbose=self.verbose,\n\u001b[0m\u001b[1;32m    387\u001b[0m                              \u001b[0;34m**\u001b[0m\u001b[0m_joblib_parallel_args\u001b[0m\u001b[0;34m(\u001b[0m\u001b[0mprefer\u001b[0m\u001b[0;34m=\u001b[0m\u001b[0;34m'threads'\u001b[0m\u001b[0;34m)\u001b[0m\u001b[0;34m)\u001b[0m\u001b[0;34m(\u001b[0m\u001b[0;34m\u001b[0m\u001b[0;34m\u001b[0m\u001b[0m\n\u001b[1;32m    388\u001b[0m                 delayed(_parallel_build_trees)(\n",
      "\u001b[0;32m/usr/local/lib/python3.8/site-packages/joblib/parallel.py\u001b[0m in \u001b[0;36m__call__\u001b[0;34m(self, iterable)\u001b[0m\n\u001b[1;32m   1027\u001b[0m             \u001b[0;31m# remaining jobs.\u001b[0m\u001b[0;34m\u001b[0m\u001b[0;34m\u001b[0m\u001b[0;34m\u001b[0m\u001b[0m\n\u001b[1;32m   1028\u001b[0m             \u001b[0mself\u001b[0m\u001b[0;34m.\u001b[0m\u001b[0m_iterating\u001b[0m \u001b[0;34m=\u001b[0m \u001b[0;32mFalse\u001b[0m\u001b[0;34m\u001b[0m\u001b[0;34m\u001b[0m\u001b[0m\n\u001b[0;32m-> 1029\u001b[0;31m             \u001b[0;32mif\u001b[0m \u001b[0mself\u001b[0m\u001b[0;34m.\u001b[0m\u001b[0mdispatch_one_batch\u001b[0m\u001b[0;34m(\u001b[0m\u001b[0miterator\u001b[0m\u001b[0;34m)\u001b[0m\u001b[0;34m:\u001b[0m\u001b[0;34m\u001b[0m\u001b[0;34m\u001b[0m\u001b[0m\n\u001b[0m\u001b[1;32m   1030\u001b[0m                 \u001b[0mself\u001b[0m\u001b[0;34m.\u001b[0m\u001b[0m_iterating\u001b[0m \u001b[0;34m=\u001b[0m \u001b[0mself\u001b[0m\u001b[0;34m.\u001b[0m\u001b[0m_original_iterator\u001b[0m \u001b[0;32mis\u001b[0m \u001b[0;32mnot\u001b[0m \u001b[0;32mNone\u001b[0m\u001b[0;34m\u001b[0m\u001b[0;34m\u001b[0m\u001b[0m\n\u001b[1;32m   1031\u001b[0m \u001b[0;34m\u001b[0m\u001b[0m\n",
      "\u001b[0;32m/usr/local/lib/python3.8/site-packages/joblib/parallel.py\u001b[0m in \u001b[0;36mdispatch_one_batch\u001b[0;34m(self, iterator)\u001b[0m\n\u001b[1;32m    845\u001b[0m                 \u001b[0;32mreturn\u001b[0m \u001b[0;32mFalse\u001b[0m\u001b[0;34m\u001b[0m\u001b[0;34m\u001b[0m\u001b[0m\n\u001b[1;32m    846\u001b[0m             \u001b[0;32melse\u001b[0m\u001b[0;34m:\u001b[0m\u001b[0;34m\u001b[0m\u001b[0;34m\u001b[0m\u001b[0m\n\u001b[0;32m--> 847\u001b[0;31m                 \u001b[0mself\u001b[0m\u001b[0;34m.\u001b[0m\u001b[0m_dispatch\u001b[0m\u001b[0;34m(\u001b[0m\u001b[0mtasks\u001b[0m\u001b[0;34m)\u001b[0m\u001b[0;34m\u001b[0m\u001b[0;34m\u001b[0m\u001b[0m\n\u001b[0m\u001b[1;32m    848\u001b[0m                 \u001b[0;32mreturn\u001b[0m \u001b[0;32mTrue\u001b[0m\u001b[0;34m\u001b[0m\u001b[0;34m\u001b[0m\u001b[0m\n\u001b[1;32m    849\u001b[0m \u001b[0;34m\u001b[0m\u001b[0m\n",
      "\u001b[0;32m/usr/local/lib/python3.8/site-packages/joblib/parallel.py\u001b[0m in \u001b[0;36m_dispatch\u001b[0;34m(self, batch)\u001b[0m\n\u001b[1;32m    763\u001b[0m         \u001b[0;32mwith\u001b[0m \u001b[0mself\u001b[0m\u001b[0;34m.\u001b[0m\u001b[0m_lock\u001b[0m\u001b[0;34m:\u001b[0m\u001b[0;34m\u001b[0m\u001b[0;34m\u001b[0m\u001b[0m\n\u001b[1;32m    764\u001b[0m             \u001b[0mjob_idx\u001b[0m \u001b[0;34m=\u001b[0m \u001b[0mlen\u001b[0m\u001b[0;34m(\u001b[0m\u001b[0mself\u001b[0m\u001b[0;34m.\u001b[0m\u001b[0m_jobs\u001b[0m\u001b[0;34m)\u001b[0m\u001b[0;34m\u001b[0m\u001b[0;34m\u001b[0m\u001b[0m\n\u001b[0;32m--> 765\u001b[0;31m             \u001b[0mjob\u001b[0m \u001b[0;34m=\u001b[0m \u001b[0mself\u001b[0m\u001b[0;34m.\u001b[0m\u001b[0m_backend\u001b[0m\u001b[0;34m.\u001b[0m\u001b[0mapply_async\u001b[0m\u001b[0;34m(\u001b[0m\u001b[0mbatch\u001b[0m\u001b[0;34m,\u001b[0m \u001b[0mcallback\u001b[0m\u001b[0;34m=\u001b[0m\u001b[0mcb\u001b[0m\u001b[0;34m)\u001b[0m\u001b[0;34m\u001b[0m\u001b[0;34m\u001b[0m\u001b[0m\n\u001b[0m\u001b[1;32m    766\u001b[0m             \u001b[0;31m# A job can complete so quickly than its callback is\u001b[0m\u001b[0;34m\u001b[0m\u001b[0;34m\u001b[0m\u001b[0;34m\u001b[0m\u001b[0m\n\u001b[1;32m    767\u001b[0m             \u001b[0;31m# called before we get here, causing self._jobs to\u001b[0m\u001b[0;34m\u001b[0m\u001b[0;34m\u001b[0m\u001b[0;34m\u001b[0m\u001b[0m\n",
      "\u001b[0;32m/usr/local/lib/python3.8/site-packages/joblib/_parallel_backends.py\u001b[0m in \u001b[0;36mapply_async\u001b[0;34m(self, func, callback)\u001b[0m\n\u001b[1;32m    206\u001b[0m     \u001b[0;32mdef\u001b[0m \u001b[0mapply_async\u001b[0m\u001b[0;34m(\u001b[0m\u001b[0mself\u001b[0m\u001b[0;34m,\u001b[0m \u001b[0mfunc\u001b[0m\u001b[0;34m,\u001b[0m \u001b[0mcallback\u001b[0m\u001b[0;34m=\u001b[0m\u001b[0;32mNone\u001b[0m\u001b[0;34m)\u001b[0m\u001b[0;34m:\u001b[0m\u001b[0;34m\u001b[0m\u001b[0;34m\u001b[0m\u001b[0m\n\u001b[1;32m    207\u001b[0m         \u001b[0;34m\"\"\"Schedule a func to be run\"\"\"\u001b[0m\u001b[0;34m\u001b[0m\u001b[0;34m\u001b[0m\u001b[0m\n\u001b[0;32m--> 208\u001b[0;31m         \u001b[0mresult\u001b[0m \u001b[0;34m=\u001b[0m \u001b[0mImmediateResult\u001b[0m\u001b[0;34m(\u001b[0m\u001b[0mfunc\u001b[0m\u001b[0;34m)\u001b[0m\u001b[0;34m\u001b[0m\u001b[0;34m\u001b[0m\u001b[0m\n\u001b[0m\u001b[1;32m    209\u001b[0m         \u001b[0;32mif\u001b[0m \u001b[0mcallback\u001b[0m\u001b[0;34m:\u001b[0m\u001b[0;34m\u001b[0m\u001b[0;34m\u001b[0m\u001b[0m\n\u001b[1;32m    210\u001b[0m             \u001b[0mcallback\u001b[0m\u001b[0;34m(\u001b[0m\u001b[0mresult\u001b[0m\u001b[0;34m)\u001b[0m\u001b[0;34m\u001b[0m\u001b[0;34m\u001b[0m\u001b[0m\n",
      "\u001b[0;32m/usr/local/lib/python3.8/site-packages/joblib/_parallel_backends.py\u001b[0m in \u001b[0;36m__init__\u001b[0;34m(self, batch)\u001b[0m\n\u001b[1;32m    570\u001b[0m         \u001b[0;31m# Don't delay the application, to avoid keeping the input\u001b[0m\u001b[0;34m\u001b[0m\u001b[0;34m\u001b[0m\u001b[0;34m\u001b[0m\u001b[0m\n\u001b[1;32m    571\u001b[0m         \u001b[0;31m# arguments in memory\u001b[0m\u001b[0;34m\u001b[0m\u001b[0;34m\u001b[0m\u001b[0;34m\u001b[0m\u001b[0m\n\u001b[0;32m--> 572\u001b[0;31m         \u001b[0mself\u001b[0m\u001b[0;34m.\u001b[0m\u001b[0mresults\u001b[0m \u001b[0;34m=\u001b[0m \u001b[0mbatch\u001b[0m\u001b[0;34m(\u001b[0m\u001b[0;34m)\u001b[0m\u001b[0;34m\u001b[0m\u001b[0;34m\u001b[0m\u001b[0m\n\u001b[0m\u001b[1;32m    573\u001b[0m \u001b[0;34m\u001b[0m\u001b[0m\n\u001b[1;32m    574\u001b[0m     \u001b[0;32mdef\u001b[0m \u001b[0mget\u001b[0m\u001b[0;34m(\u001b[0m\u001b[0mself\u001b[0m\u001b[0;34m)\u001b[0m\u001b[0;34m:\u001b[0m\u001b[0;34m\u001b[0m\u001b[0;34m\u001b[0m\u001b[0m\n",
      "\u001b[0;32m/usr/local/lib/python3.8/site-packages/joblib/parallel.py\u001b[0m in \u001b[0;36m__call__\u001b[0;34m(self)\u001b[0m\n\u001b[1;32m    250\u001b[0m         \u001b[0;31m# change the default number of processes to -1\u001b[0m\u001b[0;34m\u001b[0m\u001b[0;34m\u001b[0m\u001b[0;34m\u001b[0m\u001b[0m\n\u001b[1;32m    251\u001b[0m         \u001b[0;32mwith\u001b[0m \u001b[0mparallel_backend\u001b[0m\u001b[0;34m(\u001b[0m\u001b[0mself\u001b[0m\u001b[0;34m.\u001b[0m\u001b[0m_backend\u001b[0m\u001b[0;34m,\u001b[0m \u001b[0mn_jobs\u001b[0m\u001b[0;34m=\u001b[0m\u001b[0mself\u001b[0m\u001b[0;34m.\u001b[0m\u001b[0m_n_jobs\u001b[0m\u001b[0;34m)\u001b[0m\u001b[0;34m:\u001b[0m\u001b[0;34m\u001b[0m\u001b[0;34m\u001b[0m\u001b[0m\n\u001b[0;32m--> 252\u001b[0;31m             return [func(*args, **kwargs)\n\u001b[0m\u001b[1;32m    253\u001b[0m                     for func, args, kwargs in self.items]\n\u001b[1;32m    254\u001b[0m \u001b[0;34m\u001b[0m\u001b[0m\n",
      "\u001b[0;32m/usr/local/lib/python3.8/site-packages/joblib/parallel.py\u001b[0m in \u001b[0;36m<listcomp>\u001b[0;34m(.0)\u001b[0m\n\u001b[1;32m    250\u001b[0m         \u001b[0;31m# change the default number of processes to -1\u001b[0m\u001b[0;34m\u001b[0m\u001b[0;34m\u001b[0m\u001b[0;34m\u001b[0m\u001b[0m\n\u001b[1;32m    251\u001b[0m         \u001b[0;32mwith\u001b[0m \u001b[0mparallel_backend\u001b[0m\u001b[0;34m(\u001b[0m\u001b[0mself\u001b[0m\u001b[0;34m.\u001b[0m\u001b[0m_backend\u001b[0m\u001b[0;34m,\u001b[0m \u001b[0mn_jobs\u001b[0m\u001b[0;34m=\u001b[0m\u001b[0mself\u001b[0m\u001b[0;34m.\u001b[0m\u001b[0m_n_jobs\u001b[0m\u001b[0;34m)\u001b[0m\u001b[0;34m:\u001b[0m\u001b[0;34m\u001b[0m\u001b[0;34m\u001b[0m\u001b[0m\n\u001b[0;32m--> 252\u001b[0;31m             return [func(*args, **kwargs)\n\u001b[0m\u001b[1;32m    253\u001b[0m                     for func, args, kwargs in self.items]\n\u001b[1;32m    254\u001b[0m \u001b[0;34m\u001b[0m\u001b[0m\n",
      "\u001b[0;32m/usr/local/lib/python3.8/site-packages/sklearn/ensemble/_forest.py\u001b[0m in \u001b[0;36m_parallel_build_trees\u001b[0;34m(tree, forest, X, y, sample_weight, tree_idx, n_trees, verbose, class_weight, n_samples_bootstrap)\u001b[0m\n\u001b[1;32m    166\u001b[0m                                                         indices=indices)\n\u001b[1;32m    167\u001b[0m \u001b[0;34m\u001b[0m\u001b[0m\n\u001b[0;32m--> 168\u001b[0;31m         \u001b[0mtree\u001b[0m\u001b[0;34m.\u001b[0m\u001b[0mfit\u001b[0m\u001b[0;34m(\u001b[0m\u001b[0mX\u001b[0m\u001b[0;34m,\u001b[0m \u001b[0my\u001b[0m\u001b[0;34m,\u001b[0m \u001b[0msample_weight\u001b[0m\u001b[0;34m=\u001b[0m\u001b[0mcurr_sample_weight\u001b[0m\u001b[0;34m,\u001b[0m \u001b[0mcheck_input\u001b[0m\u001b[0;34m=\u001b[0m\u001b[0;32mFalse\u001b[0m\u001b[0;34m)\u001b[0m\u001b[0;34m\u001b[0m\u001b[0;34m\u001b[0m\u001b[0m\n\u001b[0m\u001b[1;32m    169\u001b[0m     \u001b[0;32melse\u001b[0m\u001b[0;34m:\u001b[0m\u001b[0;34m\u001b[0m\u001b[0;34m\u001b[0m\u001b[0m\n\u001b[1;32m    170\u001b[0m         \u001b[0mtree\u001b[0m\u001b[0;34m.\u001b[0m\u001b[0mfit\u001b[0m\u001b[0;34m(\u001b[0m\u001b[0mX\u001b[0m\u001b[0;34m,\u001b[0m \u001b[0my\u001b[0m\u001b[0;34m,\u001b[0m \u001b[0msample_weight\u001b[0m\u001b[0;34m=\u001b[0m\u001b[0msample_weight\u001b[0m\u001b[0;34m,\u001b[0m \u001b[0mcheck_input\u001b[0m\u001b[0;34m=\u001b[0m\u001b[0;32mFalse\u001b[0m\u001b[0;34m)\u001b[0m\u001b[0;34m\u001b[0m\u001b[0;34m\u001b[0m\u001b[0m\n",
      "\u001b[0;32m/usr/local/lib/python3.8/site-packages/sklearn/tree/_classes.py\u001b[0m in \u001b[0;36mfit\u001b[0;34m(self, X, y, sample_weight, check_input, X_idx_sorted)\u001b[0m\n\u001b[1;32m    888\u001b[0m         \"\"\"\n\u001b[1;32m    889\u001b[0m \u001b[0;34m\u001b[0m\u001b[0m\n\u001b[0;32m--> 890\u001b[0;31m         super().fit(\n\u001b[0m\u001b[1;32m    891\u001b[0m             \u001b[0mX\u001b[0m\u001b[0;34m,\u001b[0m \u001b[0my\u001b[0m\u001b[0;34m,\u001b[0m\u001b[0;34m\u001b[0m\u001b[0;34m\u001b[0m\u001b[0m\n\u001b[1;32m    892\u001b[0m             \u001b[0msample_weight\u001b[0m\u001b[0;34m=\u001b[0m\u001b[0msample_weight\u001b[0m\u001b[0;34m,\u001b[0m\u001b[0;34m\u001b[0m\u001b[0;34m\u001b[0m\u001b[0m\n",
      "\u001b[0;32m/usr/local/lib/python3.8/site-packages/sklearn/tree/_classes.py\u001b[0m in \u001b[0;36mfit\u001b[0;34m(self, X, y, sample_weight, check_input, X_idx_sorted)\u001b[0m\n\u001b[1;32m    226\u001b[0m         \u001b[0;32mif\u001b[0m \u001b[0misinstance\u001b[0m\u001b[0;34m(\u001b[0m\u001b[0mself\u001b[0m\u001b[0;34m.\u001b[0m\u001b[0mmin_samples_split\u001b[0m\u001b[0;34m,\u001b[0m \u001b[0mnumbers\u001b[0m\u001b[0;34m.\u001b[0m\u001b[0mIntegral\u001b[0m\u001b[0;34m)\u001b[0m\u001b[0;34m:\u001b[0m\u001b[0;34m\u001b[0m\u001b[0;34m\u001b[0m\u001b[0m\n\u001b[1;32m    227\u001b[0m             \u001b[0;32mif\u001b[0m \u001b[0;32mnot\u001b[0m \u001b[0;36m2\u001b[0m \u001b[0;34m<=\u001b[0m \u001b[0mself\u001b[0m\u001b[0;34m.\u001b[0m\u001b[0mmin_samples_split\u001b[0m\u001b[0;34m:\u001b[0m\u001b[0;34m\u001b[0m\u001b[0;34m\u001b[0m\u001b[0m\n\u001b[0;32m--> 228\u001b[0;31m                 raise ValueError(\"min_samples_split must be an integer \"\n\u001b[0m\u001b[1;32m    229\u001b[0m                                  \u001b[0;34m\"greater than 1 or a float in (0.0, 1.0]; \"\u001b[0m\u001b[0;34m\u001b[0m\u001b[0;34m\u001b[0m\u001b[0m\n\u001b[1;32m    230\u001b[0m                                  \u001b[0;34m\"got the integer %s\"\u001b[0m\u001b[0;34m\u001b[0m\u001b[0;34m\u001b[0m\u001b[0m\n",
      "\u001b[0;31mValueError\u001b[0m: min_samples_split must be an integer greater than 1 or a float in (0.0, 1.0]; got the integer 1"
     ]
    }
   ],
   "source": [
    "\"\"\"\n",
    "再给test洗一次(注意这里就报错了，因为有某个label在这个test里只出现一次) \n",
    "\"\"\"\n",
    "psx_test = cleanlab.latent_estimation.estimate_cv_predicted_probabilities(\n",
    "    temp_test_X, temp_test_Y, clf=RandomForestClassifier(max_depth=30, random_state=0))\n",
    "psx_test = np.asarray(psx_test)\n",
    "ordered_label_errors_test = get_noise_indices(\n",
    "    s=temp_test_Y,\n",
    "    psx=psx_test,\n",
    "    sorted_index_method='normalized_margin', # Orders label errors\n",
    " )\n",
    "cp_index_list_test = []\n",
    "for i in index_list_test:\n",
    "    if i in ordered_label_errors_test:\n",
    "        cp_index_list_test.append(False)\n",
    "    else:\n",
    "        cp_index_list_test.append(True)"
   ]
  },
  {
   "cell_type": "code",
   "execution_count": 277,
   "metadata": {},
   "outputs": [
    {
     "name": "stdout",
     "output_type": "stream",
     "text": [
      "              precision    recall  f1-score   support\n",
      "\n",
      "           0       0.73      0.71      0.72       273\n",
      "           1       0.26      0.35      0.30       100\n",
      "           2       0.87      0.87      0.87       284\n",
      "           4       0.00      0.00      0.00        26\n",
      "           5       0.00      0.00      0.00         1\n",
      "\n",
      "    accuracy                           0.69       684\n",
      "   macro avg       0.37      0.38      0.38       684\n",
      "weighted avg       0.69      0.69      0.69       684\n",
      "\n"
     ]
    },
    {
     "name": "stderr",
     "output_type": "stream",
     "text": [
      "/usr/local/lib/python3.8/site-packages/sklearn/metrics/_classification.py:1221: UndefinedMetricWarning: Precision and F-score are ill-defined and being set to 0.0 in labels with no predicted samples. Use `zero_division` parameter to control this behavior.\n",
      "  _warn_prf(average, modifier, msg_start, len(result))\n"
     ]
    }
   ],
   "source": [
    "\"\"\"\n",
    "于是不洗直接测试\n",
    "可以参考这个链接里面有一个详细的置信学习的代码(一个具体例子)\n",
    "https://github.com/cgnorthcutt/cleanlab/blob/master/examples/simplifying_confident_learning_tutorial.ipynb\n",
    "\"\"\"\n",
    "temp_test_Y_pred = rfc.predict(temp_test_X)\n",
    "print(classification_report(temp_test_Y,temp_test_Y_pred))"
   ]
  },
  {
   "cell_type": "code",
   "execution_count": null,
   "metadata": {},
   "outputs": [],
   "source": []
  }
 ],
 "metadata": {
  "kernelspec": {
   "display_name": "Python 3.8.5 64-bit",
   "language": "python",
   "name": "python38564bit9755afc1b5134399b36eeb8f9d660dbb"
  },
  "language_info": {
   "codemirror_mode": {
    "name": "ipython",
    "version": 3
   },
   "file_extension": ".py",
   "mimetype": "text/x-python",
   "name": "python",
   "nbconvert_exporter": "python",
   "pygments_lexer": "ipython3",
   "version": "3.8.5"
  }
 },
 "nbformat": 4,
 "nbformat_minor": 2
}
